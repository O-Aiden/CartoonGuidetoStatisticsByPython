{
  "nbformat": 4,
  "nbformat_minor": 0,
  "metadata": {
    "colab": {
      "name": "1-1《漫画统计学》之python实现-确认数据种类.ipynb",
      "provenance": [],
      "collapsed_sections": [],
      "mount_file_id": "1ipO-KBDHMAZDqZzp72n-DNXNdmXXnRJi",
      "authorship_tag": "ABX9TyPEvSMSmZuaVtkrgz5YGbYO",
      "include_colab_link": true
    },
    "kernelspec": {
      "name": "python3",
      "display_name": "Python 3"
    },
    "language_info": {
      "name": "python"
    }
  },
  "cells": [
    {
      "cell_type": "markdown",
      "metadata": {
        "id": "view-in-github",
        "colab_type": "text"
      },
      "source": [
        "<a href=\"https://colab.research.google.com/github/O-Aiden/CartoonGuidetoStatisticsByPython/blob/main/1_1%E3%80%8A%E6%BC%AB%E7%94%BB%E7%BB%9F%E8%AE%A1%E5%AD%A6%E3%80%8B%E4%B9%8Bpython%E5%AE%9E%E7%8E%B0_%E7%A1%AE%E8%AE%A4%E6%95%B0%E6%8D%AE%E7%A7%8D%E7%B1%BB.ipynb\" target=\"_parent\"><img src=\"https://colab.research.google.com/assets/colab-badge.svg\" alt=\"Open In Colab\"/></a>"
      ]
    },
    {
      "cell_type": "code",
      "metadata": {
        "id": "teBZwOB4Nei1"
      },
      "source": [
        "import pandas as pd"
      ],
      "execution_count": 2,
      "outputs": []
    },
    {
      "cell_type": "code",
      "metadata": {
        "colab": {
          "base_uri": "https://localhost:8080/",
          "height": 159
        },
        "id": "uC3CRZ_17ymV",
        "outputId": "c7cb6129-25df-4ee4-a7d1-df0752b28db3"
      },
      "source": [
        "data = pd.read_csv(\"1-1汽车数据.csv\",index_col=0)\n",
        "data.head(3)"
      ],
      "execution_count": 10,
      "outputs": [
        {
          "output_type": "execute_result",
          "data": {
            "text/html": [
              "<div>\n",
              "<style scoped>\n",
              "    .dataframe tbody tr th:only-of-type {\n",
              "        vertical-align: middle;\n",
              "    }\n",
              "\n",
              "    .dataframe tbody tr th {\n",
              "        vertical-align: top;\n",
              "    }\n",
              "\n",
              "    .dataframe thead th {\n",
              "        text-align: right;\n",
              "    }\n",
              "</style>\n",
              "<table border=\"1\" class=\"dataframe\">\n",
              "  <thead>\n",
              "    <tr style=\"text-align: right;\">\n",
              "      <th></th>\n",
              "      <th>能源类型</th>\n",
              "      <th>环保标准</th>\n",
              "      <th>上市时间</th>\n",
              "      <th>最大功率(kW)</th>\n",
              "      <th>最大扭矩(N·m)</th>\n",
              "      <th>发动机型号</th>\n",
              "      <th>变速箱类型</th>\n",
              "      <th>长*宽*高(mm)</th>\n",
              "      <th>车身结构</th>\n",
              "    </tr>\n",
              "  </thead>\n",
              "  <tbody>\n",
              "    <tr>\n",
              "      <th>0</th>\n",
              "      <td>柴油</td>\n",
              "      <td>国VI</td>\n",
              "      <td>2021.02</td>\n",
              "      <td>105</td>\n",
              "      <td>320</td>\n",
              "      <td>NaN</td>\n",
              "      <td>NaN</td>\n",
              "      <td>5350×1885×1825</td>\n",
              "      <td>皮卡</td>\n",
              "    </tr>\n",
              "    <tr>\n",
              "      <th>1</th>\n",
              "      <td>柴油</td>\n",
              "      <td>国VI</td>\n",
              "      <td>2021.02</td>\n",
              "      <td>105</td>\n",
              "      <td>320</td>\n",
              "      <td>NaN</td>\n",
              "      <td>NaN</td>\n",
              "      <td>5350×1885×1825</td>\n",
              "      <td>皮卡</td>\n",
              "    </tr>\n",
              "    <tr>\n",
              "      <th>2</th>\n",
              "      <td>柴油</td>\n",
              "      <td>国VI</td>\n",
              "      <td>2021.02</td>\n",
              "      <td>105</td>\n",
              "      <td>320</td>\n",
              "      <td>NaN</td>\n",
              "      <td>NaN</td>\n",
              "      <td>5350×1885×1825</td>\n",
              "      <td>皮卡</td>\n",
              "    </tr>\n",
              "  </tbody>\n",
              "</table>\n",
              "</div>"
            ],
            "text/plain": [
              "  能源类型 环保标准     上市时间  最大功率(kW)  最大扭矩(N·m)  发动机型号  变速箱类型       长*宽*高(mm) 车身结构\n",
              "0   柴油  国VI  2021.02       105        320    NaN    NaN  5350×1885×1825   皮卡\n",
              "1   柴油  国VI  2021.02       105        320    NaN    NaN  5350×1885×1825   皮卡\n",
              "2   柴油  国VI  2021.02       105        320    NaN    NaN  5350×1885×1825   皮卡"
            ]
          },
          "metadata": {
            "tags": []
          },
          "execution_count": 10
        }
      ]
    },
    {
      "cell_type": "code",
      "metadata": {
        "colab": {
          "base_uri": "https://localhost:8080/"
        },
        "id": "AVs3ue_X8aSo",
        "outputId": "a00a8c01-9821-4498-ba87-03fc44a15926"
      },
      "source": [
        "# 利用unique()函数\n",
        "def passOne(name):\n",
        "  print(data[name].unique())\n",
        "names = data.columns.values.tolist()\n",
        "for name in names:\n",
        "  passOne(name)"
      ],
      "execution_count": 11,
      "outputs": [
        {
          "output_type": "stream",
          "text": [
            "['柴油' '汽油']\n",
            "['国VI' '国V']\n",
            "[2021.02 2017.12 2018.12 2021.01]\n",
            "[105 170  96]\n",
            "[320 310 280]\n",
            "[nan]\n",
            "[nan]\n",
            "['5350×1885×1825' '5660×1885×1825' '5660×1885×1848' '5382×1877×1830'\n",
            " '5692×1877×1830']\n",
            "['皮卡']\n"
          ],
          "name": "stdout"
        }
      ]
    },
    {
      "cell_type": "markdown",
      "metadata": {
        "id": "bT6ZDE-jBomo"
      },
      "source": [
        "# 第二种思路"
      ]
    },
    {
      "cell_type": "code",
      "metadata": {
        "colab": {
          "base_uri": "https://localhost:8080/"
        },
        "id": "tLSh-oDX_4Og",
        "outputId": "0e34699d-8dc1-4370-9466-14134e6bc0fd"
      },
      "source": [
        "# 利用category的性质\n",
        "def passTwo(name):\n",
        "  data_list = data[name].to_list()\n",
        "  data_list_cat = pd.Series(pd.Categorical(data_list))\n",
        "  print(data_list_cat.cat.categories)\n",
        "for name in names:\n",
        "  passTwo(name)"
      ],
      "execution_count": 12,
      "outputs": [
        {
          "output_type": "stream",
          "text": [
            "Index(['柴油', '汽油'], dtype='object')\n",
            "Index(['国V', '国VI'], dtype='object')\n",
            "Float64Index([2017.12, 2018.12, 2021.01, 2021.02], dtype='float64')\n",
            "Int64Index([96, 105, 170], dtype='int64')\n",
            "Int64Index([280, 310, 320], dtype='int64')\n",
            "Float64Index([], dtype='float64')\n",
            "Float64Index([], dtype='float64')\n",
            "Index(['5350×1885×1825', '5382×1877×1830', '5660×1885×1825', '5660×1885×1848',\n",
            "       '5692×1877×1830'],\n",
            "      dtype='object')\n",
            "Index(['皮卡'], dtype='object')\n"
          ],
          "name": "stdout"
        }
      ]
    }
  ]
}
