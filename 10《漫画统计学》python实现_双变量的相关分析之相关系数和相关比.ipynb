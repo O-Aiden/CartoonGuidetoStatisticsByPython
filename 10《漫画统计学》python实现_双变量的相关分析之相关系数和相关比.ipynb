{
  "nbformat": 4,
  "nbformat_minor": 0,
  "metadata": {
    "colab": {
      "name": "10《漫画统计学》python实现-双变量的相关分析之相关系数和相关比.ipynb",
      "provenance": [],
      "collapsed_sections": [
        "XFUiGtrmmX49"
      ],
      "mount_file_id": "1rXr2QLuowNrTbRzCeNTs1Ov1qT3NggDj",
      "authorship_tag": "ABX9TyMb4jqFC30ldsaiIN9FrDRN",
      "include_colab_link": true
    },
    "kernelspec": {
      "name": "python3",
      "display_name": "Python 3"
    },
    "language_info": {
      "name": "python"
    }
  },
  "cells": [
    {
      "cell_type": "markdown",
      "metadata": {
        "id": "view-in-github",
        "colab_type": "text"
      },
      "source": [
        "<a href=\"https://colab.research.google.com/github/O-Aiden/CartoonGuidetoStatisticsByPython/blob/main/10%E3%80%8A%E6%BC%AB%E7%94%BB%E7%BB%9F%E8%AE%A1%E5%AD%A6%E3%80%8Bpython%E5%AE%9E%E7%8E%B0_%E5%8F%8C%E5%8F%98%E9%87%8F%E7%9A%84%E7%9B%B8%E5%85%B3%E5%88%86%E6%9E%90%E4%B9%8B%E7%9B%B8%E5%85%B3%E7%B3%BB%E6%95%B0%E5%92%8C%E7%9B%B8%E5%85%B3%E6%AF%94.ipynb\" target=\"_parent\"><img src=\"https://colab.research.google.com/assets/colab-badge.svg\" alt=\"Open In Colab\"/></a>"
      ]
    },
    {
      "cell_type": "markdown",
      "metadata": {
        "id": "XFUiGtrmmX49"
      },
      "source": [
        "## 相关系数\n",
        "数值数据和数值数据"
      ]
    },
    {
      "cell_type": "code",
      "metadata": {
        "colab": {
          "base_uri": "https://localhost:8080/",
          "height": 142
        },
        "id": "cKpgQifE3FF-",
        "outputId": "38fd6448-349d-4830-bbc7-f91eefd5f9ac"
      },
      "source": [
        "import pandas as pd\n",
        "data = pd.read_csv(\"1-1汽车数据.csv\",index_col=0)\n",
        "data.head(3)"
      ],
      "execution_count": 18,
      "outputs": [
        {
          "output_type": "execute_result",
          "data": {
            "text/html": [
              "<div>\n",
              "<style scoped>\n",
              "    .dataframe tbody tr th:only-of-type {\n",
              "        vertical-align: middle;\n",
              "    }\n",
              "\n",
              "    .dataframe tbody tr th {\n",
              "        vertical-align: top;\n",
              "    }\n",
              "\n",
              "    .dataframe thead th {\n",
              "        text-align: right;\n",
              "    }\n",
              "</style>\n",
              "<table border=\"1\" class=\"dataframe\">\n",
              "  <thead>\n",
              "    <tr style=\"text-align: right;\">\n",
              "      <th></th>\n",
              "      <th>能源类型</th>\n",
              "      <th>环保标准</th>\n",
              "      <th>上市时间</th>\n",
              "      <th>最大功率(kW)</th>\n",
              "      <th>最大扭矩(N·m)</th>\n",
              "      <th>发动机型号</th>\n",
              "      <th>变速箱类型</th>\n",
              "      <th>长*宽*高(mm)</th>\n",
              "      <th>车身结构</th>\n",
              "    </tr>\n",
              "  </thead>\n",
              "  <tbody>\n",
              "    <tr>\n",
              "      <th>0</th>\n",
              "      <td>柴油</td>\n",
              "      <td>国VI</td>\n",
              "      <td>2021.02</td>\n",
              "      <td>105</td>\n",
              "      <td>320</td>\n",
              "      <td>NaN</td>\n",
              "      <td>NaN</td>\n",
              "      <td>5350×1885×1825</td>\n",
              "      <td>皮卡</td>\n",
              "    </tr>\n",
              "    <tr>\n",
              "      <th>1</th>\n",
              "      <td>柴油</td>\n",
              "      <td>国VI</td>\n",
              "      <td>2021.02</td>\n",
              "      <td>105</td>\n",
              "      <td>320</td>\n",
              "      <td>NaN</td>\n",
              "      <td>NaN</td>\n",
              "      <td>5350×1885×1825</td>\n",
              "      <td>皮卡</td>\n",
              "    </tr>\n",
              "    <tr>\n",
              "      <th>2</th>\n",
              "      <td>柴油</td>\n",
              "      <td>国VI</td>\n",
              "      <td>2021.02</td>\n",
              "      <td>105</td>\n",
              "      <td>320</td>\n",
              "      <td>NaN</td>\n",
              "      <td>NaN</td>\n",
              "      <td>5350×1885×1825</td>\n",
              "      <td>皮卡</td>\n",
              "    </tr>\n",
              "  </tbody>\n",
              "</table>\n",
              "</div>"
            ],
            "text/plain": [
              "  能源类型 环保标准     上市时间  最大功率(kW)  最大扭矩(N·m)  发动机型号  变速箱类型       长*宽*高(mm) 车身结构\n",
              "0   柴油  国VI  2021.02       105        320    NaN    NaN  5350×1885×1825   皮卡\n",
              "1   柴油  国VI  2021.02       105        320    NaN    NaN  5350×1885×1825   皮卡\n",
              "2   柴油  国VI  2021.02       105        320    NaN    NaN  5350×1885×1825   皮卡"
            ]
          },
          "metadata": {
            "tags": []
          },
          "execution_count": 18
        }
      ]
    },
    {
      "cell_type": "code",
      "metadata": {
        "id": "IGANvxNUmXj0",
        "colab": {
          "base_uri": "https://localhost:8080/",
          "height": 111
        },
        "outputId": "8f1eb1a6-7753-400c-b13d-0480d7d679b3"
      },
      "source": [
        "temp = data[[\"最大功率(kW)\",\"最大扭矩(N·m)\"]]\n",
        "temp.corr()"
      ],
      "execution_count": 19,
      "outputs": [
        {
          "output_type": "execute_result",
          "data": {
            "text/html": [
              "<div>\n",
              "<style scoped>\n",
              "    .dataframe tbody tr th:only-of-type {\n",
              "        vertical-align: middle;\n",
              "    }\n",
              "\n",
              "    .dataframe tbody tr th {\n",
              "        vertical-align: top;\n",
              "    }\n",
              "\n",
              "    .dataframe thead th {\n",
              "        text-align: right;\n",
              "    }\n",
              "</style>\n",
              "<table border=\"1\" class=\"dataframe\">\n",
              "  <thead>\n",
              "    <tr style=\"text-align: right;\">\n",
              "      <th></th>\n",
              "      <th>最大功率(kW)</th>\n",
              "      <th>最大扭矩(N·m)</th>\n",
              "    </tr>\n",
              "  </thead>\n",
              "  <tbody>\n",
              "    <tr>\n",
              "      <th>最大功率(kW)</th>\n",
              "      <td>1.000000</td>\n",
              "      <td>-0.002478</td>\n",
              "    </tr>\n",
              "    <tr>\n",
              "      <th>最大扭矩(N·m)</th>\n",
              "      <td>-0.002478</td>\n",
              "      <td>1.000000</td>\n",
              "    </tr>\n",
              "  </tbody>\n",
              "</table>\n",
              "</div>"
            ],
            "text/plain": [
              "           最大功率(kW)  最大扭矩(N·m)\n",
              "最大功率(kW)   1.000000  -0.002478\n",
              "最大扭矩(N·m) -0.002478   1.000000"
            ]
          },
          "metadata": {
            "tags": []
          },
          "execution_count": 19
        }
      ]
    },
    {
      "cell_type": "markdown",
      "metadata": {
        "id": "KVJ_M6OT7ENr"
      },
      "source": [
        "## 相关度\n",
        "数值数据和分类数据"
      ]
    },
    {
      "cell_type": "code",
      "metadata": {
        "colab": {
          "base_uri": "https://localhost:8080/",
          "height": 142
        },
        "id": "4mTMUPmcSGgr",
        "outputId": "63c72201-7bce-4735-9af4-996c68c9b146"
      },
      "source": [
        "import pandas as pd\n",
        "\n",
        "temp = pd.read_excel('年龄和喜欢的服装品牌.xlsx',index_col=0)\n",
        "temp.head(3)"
      ],
      "execution_count": 92,
      "outputs": [
        {
          "output_type": "execute_result",
          "data": {
            "text/html": [
              "<div>\n",
              "<style scoped>\n",
              "    .dataframe tbody tr th:only-of-type {\n",
              "        vertical-align: middle;\n",
              "    }\n",
              "\n",
              "    .dataframe tbody tr th {\n",
              "        vertical-align: top;\n",
              "    }\n",
              "\n",
              "    .dataframe thead th {\n",
              "        text-align: right;\n",
              "    }\n",
              "</style>\n",
              "<table border=\"1\" class=\"dataframe\">\n",
              "  <thead>\n",
              "    <tr style=\"text-align: right;\">\n",
              "      <th></th>\n",
              "      <th>年龄</th>\n",
              "      <th>品牌</th>\n",
              "    </tr>\n",
              "  </thead>\n",
              "  <tbody>\n",
              "    <tr>\n",
              "      <th>A</th>\n",
              "      <td>27</td>\n",
              "      <td>T</td>\n",
              "    </tr>\n",
              "    <tr>\n",
              "      <th>B</th>\n",
              "      <td>33</td>\n",
              "      <td>C</td>\n",
              "    </tr>\n",
              "    <tr>\n",
              "      <th>C</th>\n",
              "      <td>16</td>\n",
              "      <td>B</td>\n",
              "    </tr>\n",
              "  </tbody>\n",
              "</table>\n",
              "</div>"
            ],
            "text/plain": [
              "   年龄 品牌\n",
              "A  27  T\n",
              "B  33  C\n",
              "C  16  B"
            ]
          },
          "metadata": {
            "tags": []
          },
          "execution_count": 92
        }
      ]
    },
    {
      "cell_type": "markdown",
      "metadata": {
        "id": "yml01YE7BxiN"
      },
      "source": [
        "### 按照环保标准分类,求平均值和求合计"
      ]
    },
    {
      "cell_type": "code",
      "metadata": {
        "colab": {
          "base_uri": "https://localhost:8080/",
          "height": 173
        },
        "id": "Sy7ydih_B0LY",
        "outputId": "b60084d5-9841-4c7f-a9c1-9969b9860a4f"
      },
      "source": [
        "# 求平均值\n",
        "mean = temp.groupby('品牌')['年龄'].mean()\n",
        "mean.name = '平均值'\n",
        "\n",
        "# 求和\n",
        "sum = temp.groupby('品牌')['年龄'].sum()\n",
        "sum.name = '合计'\n",
        "\n",
        "data_group = pd.concat([pd.DataFrame(mean),pd.DataFrame(sum)], axis=1, join='inner')\n",
        "data_group\n",
        "\n",
        "# 整体合集\n",
        "data_group_sum = data_group['合计'].sum()\n",
        "# 整体平均\n",
        "data_group_mean = data_group['平均值'].mean()\n",
        "\n",
        "data_all = pd.DataFrame([[data_group_mean,data_group_sum]],columns=[\"平均值\", \"合计\"],index=['整体'])\n",
        "data_group = data_group.append(data_all)\n",
        "data_group"
      ],
      "execution_count": 94,
      "outputs": [
        {
          "output_type": "execute_result",
          "data": {
            "text/html": [
              "<div>\n",
              "<style scoped>\n",
              "    .dataframe tbody tr th:only-of-type {\n",
              "        vertical-align: middle;\n",
              "    }\n",
              "\n",
              "    .dataframe tbody tr th {\n",
              "        vertical-align: top;\n",
              "    }\n",
              "\n",
              "    .dataframe thead th {\n",
              "        text-align: right;\n",
              "    }\n",
              "</style>\n",
              "<table border=\"1\" class=\"dataframe\">\n",
              "  <thead>\n",
              "    <tr style=\"text-align: right;\">\n",
              "      <th></th>\n",
              "      <th>平均值</th>\n",
              "      <th>合计</th>\n",
              "    </tr>\n",
              "  </thead>\n",
              "  <tbody>\n",
              "    <tr>\n",
              "      <th>B</th>\n",
              "      <td>21.000000</td>\n",
              "      <td>126</td>\n",
              "    </tr>\n",
              "    <tr>\n",
              "      <th>C</th>\n",
              "      <td>29.000000</td>\n",
              "      <td>145</td>\n",
              "    </tr>\n",
              "    <tr>\n",
              "      <th>T</th>\n",
              "      <td>26.000000</td>\n",
              "      <td>104</td>\n",
              "    </tr>\n",
              "    <tr>\n",
              "      <th>整体</th>\n",
              "      <td>25.333333</td>\n",
              "      <td>375</td>\n",
              "    </tr>\n",
              "  </tbody>\n",
              "</table>\n",
              "</div>"
            ],
            "text/plain": [
              "          平均值   合计\n",
              "B   21.000000  126\n",
              "C   29.000000  145\n",
              "T   26.000000  104\n",
              "整体  25.333333  375"
            ]
          },
          "metadata": {
            "tags": []
          },
          "execution_count": 94
        }
      ]
    },
    {
      "cell_type": "code",
      "metadata": {
        "colab": {
          "base_uri": "https://localhost:8080/",
          "height": 265
        },
        "id": "Zu1z2yFhKxFA",
        "outputId": "0cde8633-a69c-4a84-e86a-af0da5eb114b"
      },
      "source": [
        "import matplotlib.pyplot as plt\n",
        "\n",
        "groups = temp.groupby('品牌')\n",
        "# Plot\n",
        "fig, ax = plt.subplots()\n",
        "ax.margins(0.05) # Optional, just adds 5% padding to the autoscaling\n",
        "for name, group in groups:\n",
        "    ax.plot(group['品牌'], group['年龄'], marker='o', linestyle='', ms=12, label=name)\n",
        "ax.legend()\n",
        "\n",
        "plt.show()"
      ],
      "execution_count": 95,
      "outputs": [
        {
          "output_type": "display_data",
          "data": {
            "image/png": "[encoded data removed]",
            "text/plain": [
              "<Figure size 432x288 with 1 Axes>"
            ]
          },
          "metadata": {
            "tags": [],
            "needs_background": "light"
          }
        }
      ]
    },
    {
      "cell_type": "markdown",
      "metadata": {
        "id": "k_oJ-VJWKoMG"
      },
      "source": [
        "## 步骤一：计算（年龄-年龄的平均值）的平方和"
      ]
    },
    {
      "cell_type": "code",
      "metadata": {
        "colab": {
          "base_uri": "https://localhost:8080/"
        },
        "id": "b7JKKIpKNh2a",
        "outputId": "d00f4fba-923d-49ab-dc7f-335d4644638a"
      },
      "source": [
        "# （年龄-年龄的平均值）的平方\n",
        "groups = temp.groupby('品牌')\n",
        "SBB = pd.DataFrame((groups.get_group(\"B\")['年龄'] - data_group['平均值']['B'])**2)['年龄'].sum()\n",
        "print('SBB: ',SBB)\n",
        "SCC = pd.DataFrame((groups.get_group(\"C\")['年龄'] - data_group['平均值']['C'])**2)['年龄'].sum()\n",
        "print('SCC: ',SCC)\n",
        "STT = pd.DataFrame((groups.get_group(\"T\")['年龄'] - data_group['平均值']['T'])**2)['年龄'].sum()\n",
        "print('STT: ',STT)"
      ],
      "execution_count": 106,
      "outputs": [
        {
          "output_type": "stream",
          "text": [
            "SBB:  160.0\n",
            "SCC:  50.0\n",
            "STT:  14.0\n"
          ],
          "name": "stdout"
        }
      ]
    },
    {
      "cell_type": "markdown",
      "metadata": {
        "id": "KjNvWWVcWGMD"
      },
      "source": [
        "## 步骤二：求出组内变异，也就是SBB+SCC+STT\n",
        "\n"
      ]
    },
    {
      "cell_type": "code",
      "metadata": {
        "colab": {
          "base_uri": "https://localhost:8080/"
        },
        "id": "weHvLWjX-YX2",
        "outputId": "723a42c4-7fc7-4c60-8426-1384993315e2"
      },
      "source": [
        "S_O = SBB+SCC+STT\n",
        "S_O"
      ],
      "execution_count": 125,
      "outputs": [
        {
          "output_type": "execute_result",
          "data": {
            "text/plain": [
              "224.0"
            ]
          },
          "metadata": {
            "tags": []
          },
          "execution_count": 125
        }
      ]
    },
    {
      "cell_type": "markdown",
      "metadata": {
        "id": "GFmeFKcAW2th"
      },
      "source": [
        "## 步骤三：求出组间变异"
      ]
    },
    {
      "cell_type": "code",
      "metadata": {
        "colab": {
          "base_uri": "https://localhost:8080/"
        },
        "id": "uglZjG63Wgcs",
        "outputId": "2e21ecee-8437-42cd-cf6e-fc7065aea5b9"
      },
      "source": [
        "S_I = len(groups.get_group(\"B\"))*(data_group['平均值']['B']-data_group['平均值']['整体'])**2+len(groups.get_group(\"C\"))*(data_group['平均值']['C']-data_group['平均值']['整体'])**2+len(groups.get_group(\"T\"))*(data_group['平均值']['T']-data_group['平均值']['整体'])**2\n",
        "S_I"
      ],
      "execution_count": 122,
      "outputs": [
        {
          "output_type": "execute_result",
          "data": {
            "text/plain": [
              "181.66666666666663"
            ]
          },
          "metadata": {
            "tags": []
          },
          "execution_count": 122
        }
      ]
    },
    {
      "cell_type": "markdown",
      "metadata": {
        "id": "paftiejTY5Qz"
      },
      "source": [
        "## 步骤四：求相关比的值"
      ]
    },
    {
      "cell_type": "code",
      "metadata": {
        "colab": {
          "base_uri": "https://localhost:8080/"
        },
        "id": "tJ_sqeHKYAHH",
        "outputId": "39cbc5e7-92ae-4565-a4c6-346686f656e6"
      },
      "source": [
        "S = S_I/(S_O + S_I)\n",
        "S"
      ],
      "execution_count": 126,
      "outputs": [
        {
          "output_type": "execute_result",
          "data": {
            "text/plain": [
              "0.44782251437962195"
            ]
          },
          "metadata": {
            "tags": []
          },
          "execution_count": 126
        }
      ]
    },
    {
      "cell_type": "code",
      "metadata": {
        "id": "UmqCEAabZIEX"
      },
      "source": [
        "# def corrr(temp,name_categ,name_numer):\n",
        "#   \"\"\"\n",
        "#   temp:数据（分类数据和数值数据）\n",
        "#   categ_data:分类数据名称\n",
        "#   name_numer：数值数据名称\n",
        "#   \"\"\"\n",
        "#   ## 数据分类\n",
        "#   # 求平均值\n",
        "#   mean = temp.groupby('name_categ')['name_numer'].mean()\n",
        "#   mean.name = '平均值'\n",
        "\n",
        "#   # 求和\n",
        "#   sum = temp.groupby('name_categ')['name_numer'].sum()\n",
        "#   sum.name = '合计'\n",
        "\n",
        "#   data_group = pd.concat([pd.DataFrame(mean),pd.DataFrame(sum)], axis=1, join='inner')\n",
        "#   data_group\n",
        "\n",
        "#   # 整体合集\n",
        "#   data_group_sum = data_group['合计'].sum()\n",
        "#   # 整体平均\n",
        "#   data_group_mean = data_group['平均值'].mean()\n",
        "\n",
        "#   data_all = pd.DataFrame([[data_group_mean,data_group_sum]],columns=[\"平均值\", \"合计\"],index=['整体'])\n",
        "#   data_group = data_group.append(data_all)\n",
        "\n",
        "#   ## 步骤一：\n",
        "#   groups = temp.groupby('name_categ')\n",
        "#   SBB = pd.DataFrame((groups.get_group(\"B\")['name_numer'] - data_group['平均值']['B'])**2)['name_numer'].sum()\n",
        "#   SCC = pd.DataFrame((groups.get_group(\"C\")['name_numer'] - data_group['平均值']['C'])**2)['name_numer'].sum()\n",
        "#   STT = pd.DataFrame((groups.get_group(\"T\")['name_numer'] - data_group['平均值']['T'])**2)['name_numer'].sum()\n",
        "#   ## 步骤二：\n",
        "#   S_O = SBB+SCC+STT\n",
        "#   ## 步骤三\n",
        "#   S_I = len(groups.get_group(\"B\"))*(data_group['平均值']['B']-data_group['平均值']['整体'])**2+len(groups.get_group(\"C\"))*(data_group['平均值']['C']-data_group['平均值']['整体'])**2+len(groups.get_group(\"T\"))*(data_group['平均值']['T']-data_group['平均值']['整体'])**2\n",
        "#   ## 步骤四\n",
        "#   S = S_I/(S_O + S_I)\n",
        "#   return S\n"
      ],
      "execution_count": 127,
      "outputs": []
    },
    {
      "cell_type": "code",
      "metadata": {
        "id": "1qQBjECDb0ue"
      },
      "source": [
        ""
      ],
      "execution_count": null,
      "outputs": []
    }
  ]
}