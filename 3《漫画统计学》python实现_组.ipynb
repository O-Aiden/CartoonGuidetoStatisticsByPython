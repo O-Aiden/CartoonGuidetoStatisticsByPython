{
  "nbformat": 4,
  "nbformat_minor": 0,
  "metadata": {
    "colab": {
      "name": "2-1《漫画统计学》python实现-组.ipynb",
      "provenance": [],
      "collapsed_sections": [],
      "mount_file_id": "1rXr2QLuowNrTbRzCeNTs1Ov1qT3NggDj",
      "authorship_tag": "ABX9TyNvJ/nDJ09YYKlFEcbTI4y/",
      "include_colab_link": true
    },
    "kernelspec": {
      "name": "python3",
      "display_name": "Python 3"
    },
    "language_info": {
      "name": "python"
    }
  },
  "cells": [
    {
      "cell_type": "markdown",
      "metadata": {
        "id": "view-in-github",
        "colab_type": "text"
      },
      "source": [
        "<a href=\"https://colab.research.google.com/github/O-Aiden/CartoonGuidetoStatisticsByPython/blob/main/2_1%E3%80%8A%E6%BC%AB%E7%94%BB%E7%BB%9F%E8%AE%A1%E5%AD%A6%E3%80%8Bpython%E5%AE%9E%E7%8E%B0_%E7%BB%84.ipynb\" target=\"_parent\"><img src=\"https://colab.research.google.com/assets/colab-badge.svg\" alt=\"Open In Colab\"/></a>"
      ]
    },
    {
      "cell_type": "code",
      "metadata": {
        "id": "teBZwOB4Nei1"
      },
      "source": [
        "import pandas as pd"
      ],
      "execution_count": 31,
      "outputs": []
    },
    {
      "cell_type": "code",
      "metadata": {
        "colab": {
          "base_uri": "https://localhost:8080/",
          "height": 204
        },
        "id": "cKpgQifE3FF-",
        "outputId": "a7dcf137-d563-466e-c21a-6feacc40e994"
      },
      "source": [
        "data = pd.read_csv(\"1-1汽车数据.csv\",index_col=0)\n",
        "data.head(5)"
      ],
      "execution_count": 32,
      "outputs": [
        {
          "output_type": "execute_result",
          "data": {
            "text/html": [
              "<div>\n",
              "<style scoped>\n",
              "    .dataframe tbody tr th:only-of-type {\n",
              "        vertical-align: middle;\n",
              "    }\n",
              "\n",
              "    .dataframe tbody tr th {\n",
              "        vertical-align: top;\n",
              "    }\n",
              "\n",
              "    .dataframe thead th {\n",
              "        text-align: right;\n",
              "    }\n",
              "</style>\n",
              "<table border=\"1\" class=\"dataframe\">\n",
              "  <thead>\n",
              "    <tr style=\"text-align: right;\">\n",
              "      <th></th>\n",
              "      <th>能源类型</th>\n",
              "      <th>环保标准</th>\n",
              "      <th>上市时间</th>\n",
              "      <th>最大功率(kW)</th>\n",
              "      <th>最大扭矩(N·m)</th>\n",
              "      <th>发动机型号</th>\n",
              "      <th>变速箱类型</th>\n",
              "      <th>长*宽*高(mm)</th>\n",
              "      <th>车身结构</th>\n",
              "    </tr>\n",
              "  </thead>\n",
              "  <tbody>\n",
              "    <tr>\n",
              "      <th>0</th>\n",
              "      <td>柴油</td>\n",
              "      <td>国VI</td>\n",
              "      <td>2021.02</td>\n",
              "      <td>105</td>\n",
              "      <td>320</td>\n",
              "      <td>NaN</td>\n",
              "      <td>NaN</td>\n",
              "      <td>5350×1885×1825</td>\n",
              "      <td>皮卡</td>\n",
              "    </tr>\n",
              "    <tr>\n",
              "      <th>1</th>\n",
              "      <td>柴油</td>\n",
              "      <td>国VI</td>\n",
              "      <td>2021.02</td>\n",
              "      <td>105</td>\n",
              "      <td>320</td>\n",
              "      <td>NaN</td>\n",
              "      <td>NaN</td>\n",
              "      <td>5350×1885×1825</td>\n",
              "      <td>皮卡</td>\n",
              "    </tr>\n",
              "    <tr>\n",
              "      <th>2</th>\n",
              "      <td>柴油</td>\n",
              "      <td>国VI</td>\n",
              "      <td>2021.02</td>\n",
              "      <td>105</td>\n",
              "      <td>320</td>\n",
              "      <td>NaN</td>\n",
              "      <td>NaN</td>\n",
              "      <td>5350×1885×1825</td>\n",
              "      <td>皮卡</td>\n",
              "    </tr>\n",
              "    <tr>\n",
              "      <th>3</th>\n",
              "      <td>柴油</td>\n",
              "      <td>国VI</td>\n",
              "      <td>2021.02</td>\n",
              "      <td>105</td>\n",
              "      <td>320</td>\n",
              "      <td>NaN</td>\n",
              "      <td>NaN</td>\n",
              "      <td>5350×1885×1825</td>\n",
              "      <td>皮卡</td>\n",
              "    </tr>\n",
              "    <tr>\n",
              "      <th>4</th>\n",
              "      <td>柴油</td>\n",
              "      <td>国VI</td>\n",
              "      <td>2021.02</td>\n",
              "      <td>105</td>\n",
              "      <td>320</td>\n",
              "      <td>NaN</td>\n",
              "      <td>NaN</td>\n",
              "      <td>5350×1885×1825</td>\n",
              "      <td>皮卡</td>\n",
              "    </tr>\n",
              "  </tbody>\n",
              "</table>\n",
              "</div>"
            ],
            "text/plain": [
              "  能源类型 环保标准     上市时间  最大功率(kW)  最大扭矩(N·m)  发动机型号  变速箱类型       长*宽*高(mm) 车身结构\n",
              "0   柴油  国VI  2021.02       105        320    NaN    NaN  5350×1885×1825   皮卡\n",
              "1   柴油  国VI  2021.02       105        320    NaN    NaN  5350×1885×1825   皮卡\n",
              "2   柴油  国VI  2021.02       105        320    NaN    NaN  5350×1885×1825   皮卡\n",
              "3   柴油  国VI  2021.02       105        320    NaN    NaN  5350×1885×1825   皮卡\n",
              "4   柴油  国VI  2021.02       105        320    NaN    NaN  5350×1885×1825   皮卡"
            ]
          },
          "metadata": {
            "tags": []
          },
          "execution_count": 32
        }
      ]
    },
    {
      "cell_type": "code",
      "metadata": {
        "id": "rnOJdfowzYG1",
        "colab": {
          "base_uri": "https://localhost:8080/",
          "height": 173
        },
        "outputId": "4c074ab3-7f95-4a40-b8dc-3e0a821870b4"
      },
      "source": [
        "data_pw = data['最大功率(kW)']\n",
        "data_pw_list = data_pw.to_list()\n",
        "data_pw_group = pd.cut(data_pw_list ,[50,100,150,200] , right=False, labels=['50-100','100-150','150-200'])\n",
        "data_pw_group.describe()"
      ],
      "execution_count": 33,
      "outputs": [
        {
          "output_type": "execute_result",
          "data": {
            "text/html": [
              "<div>\n",
              "<style scoped>\n",
              "    .dataframe tbody tr th:only-of-type {\n",
              "        vertical-align: middle;\n",
              "    }\n",
              "\n",
              "    .dataframe tbody tr th {\n",
              "        vertical-align: top;\n",
              "    }\n",
              "\n",
              "    .dataframe thead th {\n",
              "        text-align: right;\n",
              "    }\n",
              "</style>\n",
              "<table border=\"1\" class=\"dataframe\">\n",
              "  <thead>\n",
              "    <tr style=\"text-align: right;\">\n",
              "      <th></th>\n",
              "      <th>counts</th>\n",
              "      <th>freqs</th>\n",
              "    </tr>\n",
              "    <tr>\n",
              "      <th>categories</th>\n",
              "      <th></th>\n",
              "      <th></th>\n",
              "    </tr>\n",
              "  </thead>\n",
              "  <tbody>\n",
              "    <tr>\n",
              "      <th>50-100</th>\n",
              "      <td>6</td>\n",
              "      <td>0.111111</td>\n",
              "    </tr>\n",
              "    <tr>\n",
              "      <th>100-150</th>\n",
              "      <td>24</td>\n",
              "      <td>0.444444</td>\n",
              "    </tr>\n",
              "    <tr>\n",
              "      <th>150-200</th>\n",
              "      <td>24</td>\n",
              "      <td>0.444444</td>\n",
              "    </tr>\n",
              "  </tbody>\n",
              "</table>\n",
              "</div>"
            ],
            "text/plain": [
              "            counts     freqs\n",
              "categories                  \n",
              "50-100           6  0.111111\n",
              "100-150         24  0.444444\n",
              "150-200         24  0.444444"
            ]
          },
          "metadata": {
            "tags": []
          },
          "execution_count": 33
        }
      ]
    },
    {
      "cell_type": "code",
      "metadata": {
        "id": "AjjR3z54TwJB"
      },
      "source": [
        ""
      ],
      "execution_count": null,
      "outputs": []
    }
  ]
}
