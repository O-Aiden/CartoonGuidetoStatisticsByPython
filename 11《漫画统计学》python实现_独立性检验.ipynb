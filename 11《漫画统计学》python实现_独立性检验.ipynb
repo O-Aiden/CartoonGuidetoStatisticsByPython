{
  "nbformat": 4,
  "nbformat_minor": 0,
  "metadata": {
    "colab": {
      "name": "11《漫画统计学》python实现-独立性检验.ipynb",
      "provenance": [],
      "collapsed_sections": [
        "XFUiGtrmmX49"
      ],
      "mount_file_id": "1rXr2QLuowNrTbRzCeNTs1Ov1qT3NggDj",
      "authorship_tag": "ABX9TyO0cdo9pknlchHWnSP+zcs1",
      "include_colab_link": true
    },
    "kernelspec": {
      "name": "python3",
      "display_name": "Python 3"
    },
    "language_info": {
      "name": "python"
    }
  },
  "cells": [
    {
      "cell_type": "markdown",
      "metadata": {
        "id": "view-in-github",
        "colab_type": "text"
      },
      "source": [
        "<a href=\"https://colab.research.google.com/github/O-Aiden/CartoonGuidetoStatisticsByPython/blob/main/11%E3%80%8A%E6%BC%AB%E7%94%BB%E7%BB%9F%E8%AE%A1%E5%AD%A6%E3%80%8Bpython%E5%AE%9E%E7%8E%B0_%E7%8B%AC%E7%AB%8B%E6%80%A7%E6%A3%80%E9%AA%8C.ipynb\" target=\"_parent\"><img src=\"https://colab.research.google.com/assets/colab-badge.svg\" alt=\"Open In Colab\"/></a>"
      ]
    },
    {
      "cell_type": "markdown",
      "metadata": {
        "id": "1nAKCLpVJR6c"
      },
      "source": [
        "# 求数据的皮尔森卡方统计量X^2"
      ]
    },
    {
      "cell_type": "code",
      "metadata": {
        "id": "l3PJaJWZ2mMD",
        "colab": {
          "base_uri": "https://localhost:8080/"
        },
        "outputId": "4efb4469-9313-4ba0-aabb-0a660e45c7dd"
      },
      "source": [
        "import numpy as np\n",
        "from scipy.stats import chi2_contingency\n",
        "\n",
        "d = np.array([[34,61,53], [38, 40,74]])\n",
        "chi2_contingency(d)\n",
        "# 第一个值为卡方值，第二个值为P值，第三个值为自由度，第四个为与原数据数组同维度的对应理论值"
      ],
      "execution_count": 5,
      "outputs": [
        {
          "output_type": "execute_result",
          "data": {
            "text/plain": [
              "(8.009090305710716,\n",
              " 0.018232580410070073,\n",
              " 2,\n",
              " array([[35.52      , 49.82666667, 62.65333333],\n",
              "        [36.48      , 51.17333333, 64.34666667]]))"
            ]
          },
          "metadata": {
            "tags": []
          },
          "execution_count": 5
        }
      ]
    },
    {
      "cell_type": "markdown",
      "metadata": {
        "id": "FuThlgt6I2qh"
      },
      "source": [
        "# 置信水平为0.05，自由度为2，求皮尔森卡方统计量X^2"
      ]
    },
    {
      "cell_type": "code",
      "metadata": {
        "colab": {
          "base_uri": "https://localhost:8080/"
        },
        "id": "cDC5BXmCIGuj",
        "outputId": "ab6c20b3-53b9-47a0-b366-8995da2b7223"
      },
      "source": [
        "from scipy import stats\n",
        "stats.chi2.ppf(q=1-0.05,df=2)"
      ],
      "execution_count": 6,
      "outputs": [
        {
          "output_type": "execute_result",
          "data": {
            "text/plain": [
              "5.991464547107979"
            ]
          },
          "metadata": {
            "tags": []
          },
          "execution_count": 6
        }
      ]
    },
    {
      "cell_type": "code",
      "metadata": {
        "id": "Lk_iAh6RIotv"
      },
      "source": [
        ""
      ],
      "execution_count": null,
      "outputs": []
    }
  ]
}