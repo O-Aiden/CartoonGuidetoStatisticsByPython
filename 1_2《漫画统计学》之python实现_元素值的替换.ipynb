{
  "nbformat": 4,
  "nbformat_minor": 0,
  "metadata": {
    "colab": {
      "name": "1-2《漫画统计学》之python实现-元素值的替换.ipynb",
      "provenance": [],
      "collapsed_sections": [],
      "mount_file_id": "1rXr2QLuowNrTbRzCeNTs1Ov1qT3NggDj",
      "authorship_tag": "ABX9TyOmYZ3RfAEdgndpmU1aZYDc",
      "include_colab_link": true
    },
    "kernelspec": {
      "name": "python3",
      "display_name": "Python 3"
    },
    "language_info": {
      "name": "python"
    }
  },
  "cells": [
    {
      "cell_type": "markdown",
      "metadata": {
        "id": "view-in-github",
        "colab_type": "text"
      },
      "source": [
        "<a href=\"https://colab.research.google.com/github/O-Aiden/CartoonGuidetoStatisticsByPython/blob/main/1_2%E3%80%8A%E6%BC%AB%E7%94%BB%E7%BB%9F%E8%AE%A1%E5%AD%A6%E3%80%8B%E4%B9%8Bpython%E5%AE%9E%E7%8E%B0_%E5%85%83%E7%B4%A0%E5%80%BC%E7%9A%84%E6%9B%BF%E6%8D%A2.ipynb\" target=\"_parent\"><img src=\"https://colab.research.google.com/assets/colab-badge.svg\" alt=\"Open In Colab\"/></a>"
      ]
    },
    {
      "cell_type": "code",
      "metadata": {
        "id": "teBZwOB4Nei1"
      },
      "source": [
        "import pandas as pd"
      ],
      "execution_count": 49,
      "outputs": []
    },
    {
      "cell_type": "code",
      "metadata": {
        "colab": {
          "base_uri": "https://localhost:8080/",
          "height": 204
        },
        "id": "cKpgQifE3FF-",
        "outputId": "ef2d3c37-3d42-4766-f46c-a87b5fec4a0e"
      },
      "source": [
        "data = pd.read_csv(\"1-1汽车数据.csv\",index_col=0)\n",
        "data.head(5)"
      ],
      "execution_count": 50,
      "outputs": [
        {
          "output_type": "execute_result",
          "data": {
            "text/html": [
              "<div>\n",
              "<style scoped>\n",
              "    .dataframe tbody tr th:only-of-type {\n",
              "        vertical-align: middle;\n",
              "    }\n",
              "\n",
              "    .dataframe tbody tr th {\n",
              "        vertical-align: top;\n",
              "    }\n",
              "\n",
              "    .dataframe thead th {\n",
              "        text-align: right;\n",
              "    }\n",
              "</style>\n",
              "<table border=\"1\" class=\"dataframe\">\n",
              "  <thead>\n",
              "    <tr style=\"text-align: right;\">\n",
              "      <th></th>\n",
              "      <th>能源类型</th>\n",
              "      <th>环保标准</th>\n",
              "      <th>上市时间</th>\n",
              "      <th>最大功率(kW)</th>\n",
              "      <th>最大扭矩(N·m)</th>\n",
              "      <th>发动机型号</th>\n",
              "      <th>变速箱类型</th>\n",
              "      <th>长*宽*高(mm)</th>\n",
              "      <th>车身结构</th>\n",
              "    </tr>\n",
              "  </thead>\n",
              "  <tbody>\n",
              "    <tr>\n",
              "      <th>0</th>\n",
              "      <td>柴油</td>\n",
              "      <td>国VI</td>\n",
              "      <td>2021.02</td>\n",
              "      <td>105</td>\n",
              "      <td>320</td>\n",
              "      <td>NaN</td>\n",
              "      <td>NaN</td>\n",
              "      <td>5350×1885×1825</td>\n",
              "      <td>皮卡</td>\n",
              "    </tr>\n",
              "    <tr>\n",
              "      <th>1</th>\n",
              "      <td>柴油</td>\n",
              "      <td>国VI</td>\n",
              "      <td>2021.02</td>\n",
              "      <td>105</td>\n",
              "      <td>320</td>\n",
              "      <td>NaN</td>\n",
              "      <td>NaN</td>\n",
              "      <td>5350×1885×1825</td>\n",
              "      <td>皮卡</td>\n",
              "    </tr>\n",
              "    <tr>\n",
              "      <th>2</th>\n",
              "      <td>柴油</td>\n",
              "      <td>国VI</td>\n",
              "      <td>2021.02</td>\n",
              "      <td>105</td>\n",
              "      <td>320</td>\n",
              "      <td>NaN</td>\n",
              "      <td>NaN</td>\n",
              "      <td>5350×1885×1825</td>\n",
              "      <td>皮卡</td>\n",
              "    </tr>\n",
              "    <tr>\n",
              "      <th>3</th>\n",
              "      <td>柴油</td>\n",
              "      <td>国VI</td>\n",
              "      <td>2021.02</td>\n",
              "      <td>105</td>\n",
              "      <td>320</td>\n",
              "      <td>NaN</td>\n",
              "      <td>NaN</td>\n",
              "      <td>5350×1885×1825</td>\n",
              "      <td>皮卡</td>\n",
              "    </tr>\n",
              "    <tr>\n",
              "      <th>4</th>\n",
              "      <td>柴油</td>\n",
              "      <td>国VI</td>\n",
              "      <td>2021.02</td>\n",
              "      <td>105</td>\n",
              "      <td>320</td>\n",
              "      <td>NaN</td>\n",
              "      <td>NaN</td>\n",
              "      <td>5350×1885×1825</td>\n",
              "      <td>皮卡</td>\n",
              "    </tr>\n",
              "  </tbody>\n",
              "</table>\n",
              "</div>"
            ],
            "text/plain": [
              "  能源类型 环保标准     上市时间  最大功率(kW)  最大扭矩(N·m)  发动机型号  变速箱类型       长*宽*高(mm) 车身结构\n",
              "0   柴油  国VI  2021.02       105        320    NaN    NaN  5350×1885×1825   皮卡\n",
              "1   柴油  国VI  2021.02       105        320    NaN    NaN  5350×1885×1825   皮卡\n",
              "2   柴油  国VI  2021.02       105        320    NaN    NaN  5350×1885×1825   皮卡\n",
              "3   柴油  国VI  2021.02       105        320    NaN    NaN  5350×1885×1825   皮卡\n",
              "4   柴油  国VI  2021.02       105        320    NaN    NaN  5350×1885×1825   皮卡"
            ]
          },
          "metadata": {
            "tags": []
          },
          "execution_count": 50
        }
      ]
    },
    {
      "cell_type": "code",
      "metadata": {
        "id": "rnOJdfowzYG1"
      },
      "source": [
        "data_new = data.replace({'能源类型': {'柴油': 0,'汽油': 1},\n",
        "             '环保标准': {'国VI': 0,'国V': 1},\n",
        "             '长*宽*高(mm)': {'5350×1885×1825': 1,'5660×1885×1825': 2,\n",
        "                            '5660×1885×1848': 3,'5382×1877×1830': 4,\n",
        "                            '5692×1877×1830': 5}})"
      ],
      "execution_count": 51,
      "outputs": []
    },
    {
      "cell_type": "code",
      "metadata": {
        "colab": {
          "base_uri": "https://localhost:8080/",
          "height": 204
        },
        "id": "V-Jyhzjz4tpu",
        "outputId": "d7bac473-e050-43ef-b8c0-f439da4325ce"
      },
      "source": [
        "data_new.head(5)"
      ],
      "execution_count": 52,
      "outputs": [
        {
          "output_type": "execute_result",
          "data": {
            "text/html": [
              "<div>\n",
              "<style scoped>\n",
              "    .dataframe tbody tr th:only-of-type {\n",
              "        vertical-align: middle;\n",
              "    }\n",
              "\n",
              "    .dataframe tbody tr th {\n",
              "        vertical-align: top;\n",
              "    }\n",
              "\n",
              "    .dataframe thead th {\n",
              "        text-align: right;\n",
              "    }\n",
              "</style>\n",
              "<table border=\"1\" class=\"dataframe\">\n",
              "  <thead>\n",
              "    <tr style=\"text-align: right;\">\n",
              "      <th></th>\n",
              "      <th>能源类型</th>\n",
              "      <th>环保标准</th>\n",
              "      <th>上市时间</th>\n",
              "      <th>最大功率(kW)</th>\n",
              "      <th>最大扭矩(N·m)</th>\n",
              "      <th>发动机型号</th>\n",
              "      <th>变速箱类型</th>\n",
              "      <th>长*宽*高(mm)</th>\n",
              "      <th>车身结构</th>\n",
              "    </tr>\n",
              "  </thead>\n",
              "  <tbody>\n",
              "    <tr>\n",
              "      <th>0</th>\n",
              "      <td>0</td>\n",
              "      <td>0</td>\n",
              "      <td>2021.02</td>\n",
              "      <td>105</td>\n",
              "      <td>320</td>\n",
              "      <td>NaN</td>\n",
              "      <td>NaN</td>\n",
              "      <td>1</td>\n",
              "      <td>皮卡</td>\n",
              "    </tr>\n",
              "    <tr>\n",
              "      <th>1</th>\n",
              "      <td>0</td>\n",
              "      <td>0</td>\n",
              "      <td>2021.02</td>\n",
              "      <td>105</td>\n",
              "      <td>320</td>\n",
              "      <td>NaN</td>\n",
              "      <td>NaN</td>\n",
              "      <td>1</td>\n",
              "      <td>皮卡</td>\n",
              "    </tr>\n",
              "    <tr>\n",
              "      <th>2</th>\n",
              "      <td>0</td>\n",
              "      <td>0</td>\n",
              "      <td>2021.02</td>\n",
              "      <td>105</td>\n",
              "      <td>320</td>\n",
              "      <td>NaN</td>\n",
              "      <td>NaN</td>\n",
              "      <td>1</td>\n",
              "      <td>皮卡</td>\n",
              "    </tr>\n",
              "    <tr>\n",
              "      <th>3</th>\n",
              "      <td>0</td>\n",
              "      <td>0</td>\n",
              "      <td>2021.02</td>\n",
              "      <td>105</td>\n",
              "      <td>320</td>\n",
              "      <td>NaN</td>\n",
              "      <td>NaN</td>\n",
              "      <td>1</td>\n",
              "      <td>皮卡</td>\n",
              "    </tr>\n",
              "    <tr>\n",
              "      <th>4</th>\n",
              "      <td>0</td>\n",
              "      <td>0</td>\n",
              "      <td>2021.02</td>\n",
              "      <td>105</td>\n",
              "      <td>320</td>\n",
              "      <td>NaN</td>\n",
              "      <td>NaN</td>\n",
              "      <td>1</td>\n",
              "      <td>皮卡</td>\n",
              "    </tr>\n",
              "  </tbody>\n",
              "</table>\n",
              "</div>"
            ],
            "text/plain": [
              "   能源类型  环保标准     上市时间  最大功率(kW)  最大扭矩(N·m)  发动机型号  变速箱类型  长*宽*高(mm) 车身结构\n",
              "0     0     0  2021.02       105        320    NaN    NaN          1   皮卡\n",
              "1     0     0  2021.02       105        320    NaN    NaN          1   皮卡\n",
              "2     0     0  2021.02       105        320    NaN    NaN          1   皮卡\n",
              "3     0     0  2021.02       105        320    NaN    NaN          1   皮卡\n",
              "4     0     0  2021.02       105        320    NaN    NaN          1   皮卡"
            ]
          },
          "metadata": {
            "tags": []
          },
          "execution_count": 52
        }
      ]
    },
    {
      "cell_type": "markdown",
      "metadata": {
        "id": "MbW3ubOK_JiC"
      },
      "source": [
        "### 部分替换"
      ]
    },
    {
      "cell_type": "code",
      "metadata": {
        "colab": {
          "base_uri": "https://localhost:8080/",
          "height": 204
        },
        "id": "uyP6bLV38dr_",
        "outputId": "5c0381cf-8804-4f8a-c969-83247cc553a7"
      },
      "source": [
        "# 使用str.replace()\n",
        "data_copy = data\n",
        "data_copy['环保标准'] = data_coopy['环保标准'].str.replace('VI', '6')\n",
        "data_copy.head(5)"
      ],
      "execution_count": 53,
      "outputs": [
        {
          "output_type": "execute_result",
          "data": {
            "text/html": [
              "<div>\n",
              "<style scoped>\n",
              "    .dataframe tbody tr th:only-of-type {\n",
              "        vertical-align: middle;\n",
              "    }\n",
              "\n",
              "    .dataframe tbody tr th {\n",
              "        vertical-align: top;\n",
              "    }\n",
              "\n",
              "    .dataframe thead th {\n",
              "        text-align: right;\n",
              "    }\n",
              "</style>\n",
              "<table border=\"1\" class=\"dataframe\">\n",
              "  <thead>\n",
              "    <tr style=\"text-align: right;\">\n",
              "      <th></th>\n",
              "      <th>能源类型</th>\n",
              "      <th>环保标准</th>\n",
              "      <th>上市时间</th>\n",
              "      <th>最大功率(kW)</th>\n",
              "      <th>最大扭矩(N·m)</th>\n",
              "      <th>发动机型号</th>\n",
              "      <th>变速箱类型</th>\n",
              "      <th>长*宽*高(mm)</th>\n",
              "      <th>车身结构</th>\n",
              "    </tr>\n",
              "  </thead>\n",
              "  <tbody>\n",
              "    <tr>\n",
              "      <th>0</th>\n",
              "      <td>柴油</td>\n",
              "      <td>国6</td>\n",
              "      <td>2021.02</td>\n",
              "      <td>105</td>\n",
              "      <td>320</td>\n",
              "      <td>NaN</td>\n",
              "      <td>NaN</td>\n",
              "      <td>5350×1885×1825</td>\n",
              "      <td>皮卡</td>\n",
              "    </tr>\n",
              "    <tr>\n",
              "      <th>1</th>\n",
              "      <td>柴油</td>\n",
              "      <td>国6</td>\n",
              "      <td>2021.02</td>\n",
              "      <td>105</td>\n",
              "      <td>320</td>\n",
              "      <td>NaN</td>\n",
              "      <td>NaN</td>\n",
              "      <td>5350×1885×1825</td>\n",
              "      <td>皮卡</td>\n",
              "    </tr>\n",
              "    <tr>\n",
              "      <th>2</th>\n",
              "      <td>柴油</td>\n",
              "      <td>国6</td>\n",
              "      <td>2021.02</td>\n",
              "      <td>105</td>\n",
              "      <td>320</td>\n",
              "      <td>NaN</td>\n",
              "      <td>NaN</td>\n",
              "      <td>5350×1885×1825</td>\n",
              "      <td>皮卡</td>\n",
              "    </tr>\n",
              "    <tr>\n",
              "      <th>3</th>\n",
              "      <td>柴油</td>\n",
              "      <td>国6</td>\n",
              "      <td>2021.02</td>\n",
              "      <td>105</td>\n",
              "      <td>320</td>\n",
              "      <td>NaN</td>\n",
              "      <td>NaN</td>\n",
              "      <td>5350×1885×1825</td>\n",
              "      <td>皮卡</td>\n",
              "    </tr>\n",
              "    <tr>\n",
              "      <th>4</th>\n",
              "      <td>柴油</td>\n",
              "      <td>国6</td>\n",
              "      <td>2021.02</td>\n",
              "      <td>105</td>\n",
              "      <td>320</td>\n",
              "      <td>NaN</td>\n",
              "      <td>NaN</td>\n",
              "      <td>5350×1885×1825</td>\n",
              "      <td>皮卡</td>\n",
              "    </tr>\n",
              "  </tbody>\n",
              "</table>\n",
              "</div>"
            ],
            "text/plain": [
              "  能源类型 环保标准     上市时间  最大功率(kW)  最大扭矩(N·m)  发动机型号  变速箱类型       长*宽*高(mm) 车身结构\n",
              "0   柴油   国6  2021.02       105        320    NaN    NaN  5350×1885×1825   皮卡\n",
              "1   柴油   国6  2021.02       105        320    NaN    NaN  5350×1885×1825   皮卡\n",
              "2   柴油   国6  2021.02       105        320    NaN    NaN  5350×1885×1825   皮卡\n",
              "3   柴油   国6  2021.02       105        320    NaN    NaN  5350×1885×1825   皮卡\n",
              "4   柴油   国6  2021.02       105        320    NaN    NaN  5350×1885×1825   皮卡"
            ]
          },
          "metadata": {
            "tags": []
          },
          "execution_count": 53
        }
      ]
    }
  ]
}