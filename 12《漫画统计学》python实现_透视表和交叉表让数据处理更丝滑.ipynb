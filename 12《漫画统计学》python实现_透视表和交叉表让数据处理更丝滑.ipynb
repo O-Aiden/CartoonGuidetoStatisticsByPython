{
  "nbformat": 4,
  "nbformat_minor": 0,
  "metadata": {
    "colab": {
      "name": "12《漫画统计学》python实现-透视表和交叉表让数据处理更丝滑.ipynb",
      "provenance": [],
      "collapsed_sections": [],
      "mount_file_id": "1rXr2QLuowNrTbRzCeNTs1Ov1qT3NggDj",
      "authorship_tag": "ABX9TyOOCNngF+yrHnndzM35uw1E",
      "include_colab_link": true
    },
    "kernelspec": {
      "name": "python3",
      "display_name": "Python 3"
    },
    "language_info": {
      "name": "python"
    }
  },
  "cells": [
    {
      "cell_type": "markdown",
      "metadata": {
        "id": "view-in-github",
        "colab_type": "text"
      },
      "source": [
        "<a href=\"https://colab.research.google.com/github/O-Aiden/CartoonGuidetoStatisticsByPython/blob/main/12%E3%80%8A%E6%BC%AB%E7%94%BB%E7%BB%9F%E8%AE%A1%E5%AD%A6%E3%80%8Bpython%E5%AE%9E%E7%8E%B0_%E9%80%8F%E8%A7%86%E8%A1%A8%E5%92%8C%E4%BA%A4%E5%8F%89%E8%A1%A8%E8%AE%A9%E6%95%B0%E6%8D%AE%E5%A4%84%E7%90%86%E6%9B%B4%E4%B8%9D%E6%BB%91.ipynb\" target=\"_parent\"><img src=\"https://colab.research.google.com/assets/colab-badge.svg\" alt=\"Open In Colab\"/></a>"
      ]
    },
    {
      "cell_type": "code",
      "metadata": {
        "id": "teBZwOB4Nei1"
      },
      "source": [
        "import pandas as pd"
      ],
      "execution_count": 3,
      "outputs": []
    },
    {
      "cell_type": "code",
      "metadata": {
        "colab": {
          "base_uri": "https://localhost:8080/",
          "height": 204
        },
        "id": "cKpgQifE3FF-",
        "outputId": "a4bef6e6-9336-490e-f69e-ee64945ec3e8"
      },
      "source": [
        "data = pd.read_csv(\"1-1汽车数据.csv\",index_col=0)\n",
        "data.head(5)"
      ],
      "execution_count": 4,
      "outputs": [
        {
          "output_type": "execute_result",
          "data": {
            "text/html": [
              "<div>\n",
              "<style scoped>\n",
              "    .dataframe tbody tr th:only-of-type {\n",
              "        vertical-align: middle;\n",
              "    }\n",
              "\n",
              "    .dataframe tbody tr th {\n",
              "        vertical-align: top;\n",
              "    }\n",
              "\n",
              "    .dataframe thead th {\n",
              "        text-align: right;\n",
              "    }\n",
              "</style>\n",
              "<table border=\"1\" class=\"dataframe\">\n",
              "  <thead>\n",
              "    <tr style=\"text-align: right;\">\n",
              "      <th></th>\n",
              "      <th>能源类型</th>\n",
              "      <th>环保标准</th>\n",
              "      <th>上市时间</th>\n",
              "      <th>最大功率(kW)</th>\n",
              "      <th>最大扭矩(N·m)</th>\n",
              "      <th>发动机型号</th>\n",
              "      <th>变速箱类型</th>\n",
              "      <th>长*宽*高(mm)</th>\n",
              "      <th>车身结构</th>\n",
              "    </tr>\n",
              "  </thead>\n",
              "  <tbody>\n",
              "    <tr>\n",
              "      <th>0</th>\n",
              "      <td>柴油</td>\n",
              "      <td>国VI</td>\n",
              "      <td>2021.02</td>\n",
              "      <td>105</td>\n",
              "      <td>320</td>\n",
              "      <td>NaN</td>\n",
              "      <td>NaN</td>\n",
              "      <td>5350×1885×1825</td>\n",
              "      <td>皮卡</td>\n",
              "    </tr>\n",
              "    <tr>\n",
              "      <th>1</th>\n",
              "      <td>柴油</td>\n",
              "      <td>国VI</td>\n",
              "      <td>2021.02</td>\n",
              "      <td>105</td>\n",
              "      <td>320</td>\n",
              "      <td>NaN</td>\n",
              "      <td>NaN</td>\n",
              "      <td>5350×1885×1825</td>\n",
              "      <td>皮卡</td>\n",
              "    </tr>\n",
              "    <tr>\n",
              "      <th>2</th>\n",
              "      <td>柴油</td>\n",
              "      <td>国VI</td>\n",
              "      <td>2021.02</td>\n",
              "      <td>105</td>\n",
              "      <td>320</td>\n",
              "      <td>NaN</td>\n",
              "      <td>NaN</td>\n",
              "      <td>5350×1885×1825</td>\n",
              "      <td>皮卡</td>\n",
              "    </tr>\n",
              "    <tr>\n",
              "      <th>3</th>\n",
              "      <td>柴油</td>\n",
              "      <td>国VI</td>\n",
              "      <td>2021.02</td>\n",
              "      <td>105</td>\n",
              "      <td>320</td>\n",
              "      <td>NaN</td>\n",
              "      <td>NaN</td>\n",
              "      <td>5350×1885×1825</td>\n",
              "      <td>皮卡</td>\n",
              "    </tr>\n",
              "    <tr>\n",
              "      <th>4</th>\n",
              "      <td>柴油</td>\n",
              "      <td>国VI</td>\n",
              "      <td>2021.02</td>\n",
              "      <td>105</td>\n",
              "      <td>320</td>\n",
              "      <td>NaN</td>\n",
              "      <td>NaN</td>\n",
              "      <td>5350×1885×1825</td>\n",
              "      <td>皮卡</td>\n",
              "    </tr>\n",
              "  </tbody>\n",
              "</table>\n",
              "</div>"
            ],
            "text/plain": [
              "  能源类型 环保标准     上市时间  最大功率(kW)  最大扭矩(N·m)  发动机型号  变速箱类型       长*宽*高(mm) 车身结构\n",
              "0   柴油  国VI  2021.02       105        320    NaN    NaN  5350×1885×1825   皮卡\n",
              "1   柴油  国VI  2021.02       105        320    NaN    NaN  5350×1885×1825   皮卡\n",
              "2   柴油  国VI  2021.02       105        320    NaN    NaN  5350×1885×1825   皮卡\n",
              "3   柴油  国VI  2021.02       105        320    NaN    NaN  5350×1885×1825   皮卡\n",
              "4   柴油  国VI  2021.02       105        320    NaN    NaN  5350×1885×1825   皮卡"
            ]
          },
          "metadata": {
            "tags": []
          },
          "execution_count": 4
        }
      ]
    },
    {
      "cell_type": "markdown",
      "metadata": {
        "id": "sy1O4iLtpdOY"
      },
      "source": [
        "# 分组求均值"
      ]
    },
    {
      "cell_type": "code",
      "metadata": {
        "colab": {
          "base_uri": "https://localhost:8080/",
          "height": 173
        },
        "id": "JGxR589VnbEr",
        "outputId": "f17338b3-2349-449c-ed4d-32a17cdd536d"
      },
      "source": [
        "data.groupby(['能源类型', '环保标准']).mean()"
      ],
      "execution_count": 9,
      "outputs": [
        {
          "output_type": "execute_result",
          "data": {
            "text/html": [
              "<div>\n",
              "<style scoped>\n",
              "    .dataframe tbody tr th:only-of-type {\n",
              "        vertical-align: middle;\n",
              "    }\n",
              "\n",
              "    .dataframe tbody tr th {\n",
              "        vertical-align: top;\n",
              "    }\n",
              "\n",
              "    .dataframe thead th {\n",
              "        text-align: right;\n",
              "    }\n",
              "</style>\n",
              "<table border=\"1\" class=\"dataframe\">\n",
              "  <thead>\n",
              "    <tr style=\"text-align: right;\">\n",
              "      <th></th>\n",
              "      <th></th>\n",
              "      <th>上市时间</th>\n",
              "      <th>最大功率(kW)</th>\n",
              "      <th>最大扭矩(N·m)</th>\n",
              "      <th>发动机型号</th>\n",
              "      <th>变速箱类型</th>\n",
              "    </tr>\n",
              "    <tr>\n",
              "      <th>能源类型</th>\n",
              "      <th>环保标准</th>\n",
              "      <th></th>\n",
              "      <th></th>\n",
              "      <th></th>\n",
              "      <th></th>\n",
              "      <th></th>\n",
              "    </tr>\n",
              "  </thead>\n",
              "  <tbody>\n",
              "    <tr>\n",
              "      <th rowspan=\"2\" valign=\"top\">柴油</th>\n",
              "      <th>国V</th>\n",
              "      <td>2017.286667</td>\n",
              "      <td>96</td>\n",
              "      <td>280</td>\n",
              "      <td>NaN</td>\n",
              "      <td>NaN</td>\n",
              "    </tr>\n",
              "    <tr>\n",
              "      <th>国VI</th>\n",
              "      <td>2021.015000</td>\n",
              "      <td>105</td>\n",
              "      <td>320</td>\n",
              "      <td>NaN</td>\n",
              "      <td>NaN</td>\n",
              "    </tr>\n",
              "    <tr>\n",
              "      <th>汽油</th>\n",
              "      <th>国VI</th>\n",
              "      <td>2021.015000</td>\n",
              "      <td>170</td>\n",
              "      <td>310</td>\n",
              "      <td>NaN</td>\n",
              "      <td>NaN</td>\n",
              "    </tr>\n",
              "  </tbody>\n",
              "</table>\n",
              "</div>"
            ],
            "text/plain": [
              "                  上市时间  最大功率(kW)  最大扭矩(N·m)  发动机型号  变速箱类型\n",
              "能源类型 环保标准                                                \n",
              "柴油   国V    2017.286667        96        280    NaN    NaN\n",
              "     国VI   2021.015000       105        320    NaN    NaN\n",
              "汽油   国VI   2021.015000       170        310    NaN    NaN"
            ]
          },
          "metadata": {
            "tags": []
          },
          "execution_count": 9
        }
      ]
    },
    {
      "cell_type": "code",
      "metadata": {
        "colab": {
          "base_uri": "https://localhost:8080/",
          "height": 173
        },
        "id": "mRmuN0kanirl",
        "outputId": "16bfe517-2b24-4d24-b2e7-1407e64501af"
      },
      "source": [
        "data.pivot_table(index=['能源类型', '环保标准'])"
      ],
      "execution_count": 14,
      "outputs": [
        {
          "output_type": "execute_result",
          "data": {
            "text/html": [
              "<div>\n",
              "<style scoped>\n",
              "    .dataframe tbody tr th:only-of-type {\n",
              "        vertical-align: middle;\n",
              "    }\n",
              "\n",
              "    .dataframe tbody tr th {\n",
              "        vertical-align: top;\n",
              "    }\n",
              "\n",
              "    .dataframe thead th {\n",
              "        text-align: right;\n",
              "    }\n",
              "</style>\n",
              "<table border=\"1\" class=\"dataframe\">\n",
              "  <thead>\n",
              "    <tr style=\"text-align: right;\">\n",
              "      <th></th>\n",
              "      <th></th>\n",
              "      <th>上市时间</th>\n",
              "      <th>最大功率(kW)</th>\n",
              "      <th>最大扭矩(N·m)</th>\n",
              "    </tr>\n",
              "    <tr>\n",
              "      <th>能源类型</th>\n",
              "      <th>环保标准</th>\n",
              "      <th></th>\n",
              "      <th></th>\n",
              "      <th></th>\n",
              "    </tr>\n",
              "  </thead>\n",
              "  <tbody>\n",
              "    <tr>\n",
              "      <th rowspan=\"2\" valign=\"top\">柴油</th>\n",
              "      <th>国V</th>\n",
              "      <td>2017.286667</td>\n",
              "      <td>96</td>\n",
              "      <td>280</td>\n",
              "    </tr>\n",
              "    <tr>\n",
              "      <th>国VI</th>\n",
              "      <td>2021.015000</td>\n",
              "      <td>105</td>\n",
              "      <td>320</td>\n",
              "    </tr>\n",
              "    <tr>\n",
              "      <th>汽油</th>\n",
              "      <th>国VI</th>\n",
              "      <td>2021.015000</td>\n",
              "      <td>170</td>\n",
              "      <td>310</td>\n",
              "    </tr>\n",
              "  </tbody>\n",
              "</table>\n",
              "</div>"
            ],
            "text/plain": [
              "                  上市时间  最大功率(kW)  最大扭矩(N·m)\n",
              "能源类型 环保标准                                  \n",
              "柴油   国V    2017.286667        96        280\n",
              "     国VI   2021.015000       105        320\n",
              "汽油   国VI   2021.015000       170        310"
            ]
          },
          "metadata": {
            "tags": []
          },
          "execution_count": 14
        }
      ]
    },
    {
      "cell_type": "markdown",
      "metadata": {
        "id": "BqPa-1_NpkwS"
      },
      "source": [
        "# 自定义行列，对值进行分组"
      ]
    },
    {
      "cell_type": "code",
      "metadata": {
        "colab": {
          "base_uri": "https://localhost:8080/",
          "height": 204
        },
        "id": "afWVCFsWpubd",
        "outputId": "f7d03177-7c1b-490f-8b5f-f74b22e97fd4"
      },
      "source": [
        "data.pivot_table(values=['最大功率(kW)','最大扭矩(N·m)'], index=['能源类型'], columns='环保标准', margins=True)"
      ],
      "execution_count": 21,
      "outputs": [
        {
          "output_type": "execute_result",
          "data": {
            "text/html": [
              "<div>\n",
              "<style scoped>\n",
              "    .dataframe tbody tr th:only-of-type {\n",
              "        vertical-align: middle;\n",
              "    }\n",
              "\n",
              "    .dataframe tbody tr th {\n",
              "        vertical-align: top;\n",
              "    }\n",
              "\n",
              "    .dataframe thead tr th {\n",
              "        text-align: left;\n",
              "    }\n",
              "\n",
              "    .dataframe thead tr:last-of-type th {\n",
              "        text-align: right;\n",
              "    }\n",
              "</style>\n",
              "<table border=\"1\" class=\"dataframe\">\n",
              "  <thead>\n",
              "    <tr>\n",
              "      <th></th>\n",
              "      <th colspan=\"3\" halign=\"left\">最大功率(kW)</th>\n",
              "      <th colspan=\"3\" halign=\"left\">最大扭矩(N·m)</th>\n",
              "    </tr>\n",
              "    <tr>\n",
              "      <th>环保标准</th>\n",
              "      <th>国V</th>\n",
              "      <th>国VI</th>\n",
              "      <th>All</th>\n",
              "      <th>国V</th>\n",
              "      <th>国VI</th>\n",
              "      <th>All</th>\n",
              "    </tr>\n",
              "    <tr>\n",
              "      <th>能源类型</th>\n",
              "      <th></th>\n",
              "      <th></th>\n",
              "      <th></th>\n",
              "      <th></th>\n",
              "      <th></th>\n",
              "      <th></th>\n",
              "    </tr>\n",
              "  </thead>\n",
              "  <tbody>\n",
              "    <tr>\n",
              "      <th>柴油</th>\n",
              "      <td>96.0</td>\n",
              "      <td>105.0</td>\n",
              "      <td>103.200000</td>\n",
              "      <td>280.0</td>\n",
              "      <td>320.0</td>\n",
              "      <td>312.000000</td>\n",
              "    </tr>\n",
              "    <tr>\n",
              "      <th>汽油</th>\n",
              "      <td>NaN</td>\n",
              "      <td>170.0</td>\n",
              "      <td>170.000000</td>\n",
              "      <td>NaN</td>\n",
              "      <td>310.0</td>\n",
              "      <td>310.000000</td>\n",
              "    </tr>\n",
              "    <tr>\n",
              "      <th>All</th>\n",
              "      <td>96.0</td>\n",
              "      <td>137.5</td>\n",
              "      <td>132.888889</td>\n",
              "      <td>280.0</td>\n",
              "      <td>315.0</td>\n",
              "      <td>311.111111</td>\n",
              "    </tr>\n",
              "  </tbody>\n",
              "</table>\n",
              "</div>"
            ],
            "text/plain": [
              "     最大功率(kW)                    最大扭矩(N·m)                   \n",
              "环保标准       国V    国VI         All        国V    国VI         All\n",
              "能源类型                                                         \n",
              "柴油       96.0  105.0  103.200000     280.0  320.0  312.000000\n",
              "汽油        NaN  170.0  170.000000       NaN  310.0  310.000000\n",
              "All      96.0  137.5  132.888889     280.0  315.0  311.111111"
            ]
          },
          "metadata": {
            "tags": []
          },
          "execution_count": 21
        }
      ]
    },
    {
      "cell_type": "markdown",
      "metadata": {
        "id": "NkL1Vnwir8II"
      },
      "source": [
        "# 计算分组频率的特殊透视表"
      ]
    },
    {
      "cell_type": "code",
      "metadata": {
        "colab": {
          "base_uri": "https://localhost:8080/",
          "height": 173
        },
        "id": "ua4teiI5nrmr",
        "outputId": "3664f1b4-fcd9-4c22-92da-4f6965ef13d6"
      },
      "source": [
        "temp = data[['能源类型', '环保标准']]\n",
        "temp.pivot_table(index=['能源类型'], columns='环保标准', aggfunc=len, margins=True)"
      ],
      "execution_count": 17,
      "outputs": [
        {
          "output_type": "execute_result",
          "data": {
            "text/html": [
              "<div>\n",
              "<style scoped>\n",
              "    .dataframe tbody tr th:only-of-type {\n",
              "        vertical-align: middle;\n",
              "    }\n",
              "\n",
              "    .dataframe tbody tr th {\n",
              "        vertical-align: top;\n",
              "    }\n",
              "\n",
              "    .dataframe thead th {\n",
              "        text-align: right;\n",
              "    }\n",
              "</style>\n",
              "<table border=\"1\" class=\"dataframe\">\n",
              "  <thead>\n",
              "    <tr style=\"text-align: right;\">\n",
              "      <th>环保标准</th>\n",
              "      <th>国V</th>\n",
              "      <th>国VI</th>\n",
              "      <th>All</th>\n",
              "    </tr>\n",
              "    <tr>\n",
              "      <th>能源类型</th>\n",
              "      <th></th>\n",
              "      <th></th>\n",
              "      <th></th>\n",
              "    </tr>\n",
              "  </thead>\n",
              "  <tbody>\n",
              "    <tr>\n",
              "      <th>柴油</th>\n",
              "      <td>6.0</td>\n",
              "      <td>24.0</td>\n",
              "      <td>30</td>\n",
              "    </tr>\n",
              "    <tr>\n",
              "      <th>汽油</th>\n",
              "      <td>NaN</td>\n",
              "      <td>24.0</td>\n",
              "      <td>24</td>\n",
              "    </tr>\n",
              "    <tr>\n",
              "      <th>All</th>\n",
              "      <td>6.0</td>\n",
              "      <td>48.0</td>\n",
              "      <td>54</td>\n",
              "    </tr>\n",
              "  </tbody>\n",
              "</table>\n",
              "</div>"
            ],
            "text/plain": [
              "环保标准   国V   国VI  All\n",
              "能源类型                \n",
              "柴油    6.0  24.0   30\n",
              "汽油    NaN  24.0   24\n",
              "All   6.0  48.0   54"
            ]
          },
          "metadata": {
            "tags": []
          },
          "execution_count": 17
        }
      ]
    },
    {
      "cell_type": "code",
      "metadata": {
        "colab": {
          "base_uri": "https://localhost:8080/",
          "height": 173
        },
        "id": "uJnfTVzpsLWx",
        "outputId": "8404eeea-a32d-4e93-b352-79c70fa9e1b0"
      },
      "source": [
        "pd.crosstab(temp['能源类型'], temp['环保标准'], margins=True)"
      ],
      "execution_count": 19,
      "outputs": [
        {
          "output_type": "execute_result",
          "data": {
            "text/html": [
              "<div>\n",
              "<style scoped>\n",
              "    .dataframe tbody tr th:only-of-type {\n",
              "        vertical-align: middle;\n",
              "    }\n",
              "\n",
              "    .dataframe tbody tr th {\n",
              "        vertical-align: top;\n",
              "    }\n",
              "\n",
              "    .dataframe thead th {\n",
              "        text-align: right;\n",
              "    }\n",
              "</style>\n",
              "<table border=\"1\" class=\"dataframe\">\n",
              "  <thead>\n",
              "    <tr style=\"text-align: right;\">\n",
              "      <th>环保标准</th>\n",
              "      <th>国V</th>\n",
              "      <th>国VI</th>\n",
              "      <th>All</th>\n",
              "    </tr>\n",
              "    <tr>\n",
              "      <th>能源类型</th>\n",
              "      <th></th>\n",
              "      <th></th>\n",
              "      <th></th>\n",
              "    </tr>\n",
              "  </thead>\n",
              "  <tbody>\n",
              "    <tr>\n",
              "      <th>柴油</th>\n",
              "      <td>6</td>\n",
              "      <td>24</td>\n",
              "      <td>30</td>\n",
              "    </tr>\n",
              "    <tr>\n",
              "      <th>汽油</th>\n",
              "      <td>0</td>\n",
              "      <td>24</td>\n",
              "      <td>24</td>\n",
              "    </tr>\n",
              "    <tr>\n",
              "      <th>All</th>\n",
              "      <td>6</td>\n",
              "      <td>48</td>\n",
              "      <td>54</td>\n",
              "    </tr>\n",
              "  </tbody>\n",
              "</table>\n",
              "</div>"
            ],
            "text/plain": [
              "环保标准  国V  国VI  All\n",
              "能源类型              \n",
              "柴油     6   24   30\n",
              "汽油     0   24   24\n",
              "All    6   48   54"
            ]
          },
          "metadata": {
            "tags": []
          },
          "execution_count": 19
        }
      ]
    }
  ]
}