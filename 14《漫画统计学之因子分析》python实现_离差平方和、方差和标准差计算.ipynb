{
  "nbformat": 4,
  "nbformat_minor": 0,
  "metadata": {
    "colab": {
      "name": "14《漫画统计学之因子分析》python实现-离差平方和、方差和标准差计算.ipynb",
      "provenance": [],
      "collapsed_sections": [
        "HNX5239pIQQT",
        "xYXKgSq-Io8M",
        "vD8vk5BLKiuc"
      ],
      "mount_file_id": "1ic64P9s8-DOe56_ySomfO2ErDPc51n6N",
      "authorship_tag": "ABX9TyMWmtbn/CtbbZTNgVPnvSEc",
      "include_colab_link": true
    },
    "kernelspec": {
      "name": "python3",
      "display_name": "Python 3"
    },
    "language_info": {
      "name": "python"
    }
  },
  "cells": [
    {
      "cell_type": "markdown",
      "metadata": {
        "id": "view-in-github",
        "colab_type": "text"
      },
      "source": [
        "<a href=\"https://colab.research.google.com/github/O-Aiden/CartoonGuidetoStatisticsByPython/blob/main/14%E3%80%8A%E6%BC%AB%E7%94%BB%E7%BB%9F%E8%AE%A1%E5%AD%A6%E4%B9%8B%E5%9B%A0%E5%AD%90%E5%88%86%E6%9E%90%E3%80%8Bpython%E5%AE%9E%E7%8E%B0_%E7%A6%BB%E5%B7%AE%E5%B9%B3%E6%96%B9%E5%92%8C%E3%80%81%E6%96%B9%E5%B7%AE%E5%92%8C%E6%A0%87%E5%87%86%E5%B7%AE%E8%AE%A1%E7%AE%97.ipynb\" target=\"_parent\"><img src=\"https://colab.research.google.com/assets/colab-badge.svg\" alt=\"Open In Colab\"/></a>"
      ]
    },
    {
      "cell_type": "code",
      "metadata": {
        "colab": {
          "base_uri": "https://localhost:8080/",
          "height": 354
        },
        "id": "mMjDyxFIK6FG",
        "outputId": "a1280c84-8aa6-405a-fb5b-66669a8eb40d"
      },
      "source": [
        "import pandas as pd\n",
        "\n",
        "data = pd.read_excel('汽车企业销量数据.xlsx',index_col=0)\n",
        "data.head(5)"
      ],
      "execution_count": 2,
      "outputs": [
        {
          "output_type": "execute_result",
          "data": {
            "text/html": [
              "<div>\n",
              "<style scoped>\n",
              "    .dataframe tbody tr th:only-of-type {\n",
              "        vertical-align: middle;\n",
              "    }\n",
              "\n",
              "    .dataframe tbody tr th {\n",
              "        vertical-align: top;\n",
              "    }\n",
              "\n",
              "    .dataframe thead th {\n",
              "        text-align: right;\n",
              "    }\n",
              "</style>\n",
              "<table border=\"1\" class=\"dataframe\">\n",
              "  <thead>\n",
              "    <tr style=\"text-align: right;\">\n",
              "      <th></th>\n",
              "      <th>企业</th>\n",
              "      <th>2021-05-01 00:00:00</th>\n",
              "      <th>2021-04-01 00:00:00</th>\n",
              "      <th>2021-03-01 00:00:00</th>\n",
              "      <th>2021-02-01 00:00:00</th>\n",
              "      <th>2021-01-01 00:00:00</th>\n",
              "      <th>2020-12-01 00:00:00</th>\n",
              "      <th>2021年</th>\n",
              "      <th>2020年</th>\n",
              "      <th>2019年</th>\n",
              "    </tr>\n",
              "    <tr>\n",
              "      <th>序号</th>\n",
              "      <th></th>\n",
              "      <th></th>\n",
              "      <th></th>\n",
              "      <th></th>\n",
              "      <th></th>\n",
              "      <th></th>\n",
              "      <th></th>\n",
              "      <th></th>\n",
              "      <th></th>\n",
              "      <th></th>\n",
              "    </tr>\n",
              "  </thead>\n",
              "  <tbody>\n",
              "    <tr>\n",
              "      <th>1</th>\n",
              "      <td>上海大众</td>\n",
              "      <td>110000</td>\n",
              "      <td>108301</td>\n",
              "      <td>112500</td>\n",
              "      <td>50500</td>\n",
              "      <td>86100</td>\n",
              "      <td>157520</td>\n",
              "      <td>467401</td>\n",
              "      <td>1505559</td>\n",
              "      <td>1812637</td>\n",
              "    </tr>\n",
              "    <tr>\n",
              "      <th>2</th>\n",
              "      <td>一汽-大众</td>\n",
              "      <td>111518</td>\n",
              "      <td>83026</td>\n",
              "      <td>147729</td>\n",
              "      <td>77078</td>\n",
              "      <td>135278</td>\n",
              "      <td>133439</td>\n",
              "      <td>554629</td>\n",
              "      <td>1415462</td>\n",
              "      <td>1416775</td>\n",
              "    </tr>\n",
              "    <tr>\n",
              "      <th>3</th>\n",
              "      <td>吉利汽车</td>\n",
              "      <td>96581</td>\n",
              "      <td>100846</td>\n",
              "      <td>100285</td>\n",
              "      <td>77319</td>\n",
              "      <td>156828</td>\n",
              "      <td>154929</td>\n",
              "      <td>531859</td>\n",
              "      <td>1315408</td>\n",
              "      <td>1362608</td>\n",
              "    </tr>\n",
              "    <tr>\n",
              "      <th>4</th>\n",
              "      <td>上汽通用</td>\n",
              "      <td>69729</td>\n",
              "      <td>66927</td>\n",
              "      <td>110354</td>\n",
              "      <td>65552</td>\n",
              "      <td>107795</td>\n",
              "      <td>166082</td>\n",
              "      <td>420357</td>\n",
              "      <td>1271652</td>\n",
              "      <td>1510456</td>\n",
              "    </tr>\n",
              "    <tr>\n",
              "      <th>5</th>\n",
              "      <td>东风日产</td>\n",
              "      <td>79277</td>\n",
              "      <td>84499</td>\n",
              "      <td>76955</td>\n",
              "      <td>54224</td>\n",
              "      <td>114233</td>\n",
              "      <td>127923</td>\n",
              "      <td>409188</td>\n",
              "      <td>1119008</td>\n",
              "      <td>1159108</td>\n",
              "    </tr>\n",
              "  </tbody>\n",
              "</table>\n",
              "</div>"
            ],
            "text/plain": [
              "       企业  2021-05-01 00:00:00  2021-04-01 00:00:00  ...   2021年    2020年    2019年\n",
              "序号                                                   ...                          \n",
              "1    上海大众               110000               108301  ...  467401  1505559  1812637\n",
              "2   一汽-大众               111518                83026  ...  554629  1415462  1416775\n",
              "3    吉利汽车                96581               100846  ...  531859  1315408  1362608\n",
              "4    上汽通用                69729                66927  ...  420357  1271652  1510456\n",
              "5    东风日产                79277                84499  ...  409188  1119008  1159108\n",
              "\n",
              "[5 rows x 10 columns]"
            ]
          },
          "metadata": {
            "tags": []
          },
          "execution_count": 2
        }
      ]
    },
    {
      "cell_type": "markdown",
      "metadata": {
        "id": "A48x7rm7K0sl"
      },
      "source": [
        "# 离差平方和"
      ]
    },
    {
      "cell_type": "code",
      "metadata": {
        "id": "J3aYYLYFoz6g",
        "colab": {
          "base_uri": "https://localhost:8080/"
        },
        "outputId": "4f1a2d70-18f0-40df-de45-a9715669eb86"
      },
      "source": [
        "temp = data[['2021年']]\n",
        "# 平均值\n",
        "mean = temp.mean()\n",
        "# 离差平方\n",
        "temp['离差平方'] = pow(temp - mean,2)\n",
        "# 离差平方和\n",
        "sum_squares_deviations = temp['离差平方'].sum()\n",
        "sum_squares_deviations"
      ],
      "execution_count": 3,
      "outputs": [
        {
          "output_type": "stream",
          "text": [
            "/usr/local/lib/python3.7/dist-packages/ipykernel_launcher.py:5: SettingWithCopyWarning: \n",
            "A value is trying to be set on a copy of a slice from a DataFrame.\n",
            "Try using .loc[row_indexer,col_indexer] = value instead\n",
            "\n",
            "See the caveats in the documentation: https://pandas.pydata.org/pandas-docs/stable/user_guide/indexing.html#returning-a-view-versus-a-copy\n",
            "  \"\"\"\n"
          ],
          "name": "stderr"
        },
        {
          "output_type": "execute_result",
          "data": {
            "text/plain": [
              "2027124469779.5598"
            ]
          },
          "metadata": {
            "tags": []
          },
          "execution_count": 3
        }
      ]
    },
    {
      "cell_type": "markdown",
      "metadata": {
        "id": "jODFa5l4MSvf"
      },
      "source": [
        "# (总体)方差"
      ]
    },
    {
      "cell_type": "code",
      "metadata": {
        "colab": {
          "base_uri": "https://localhost:8080/"
        },
        "id": "NQ1cXjAnKrCO",
        "outputId": "0eea823c-c0e7-4841-daaa-b0e351a64af0"
      },
      "source": [
        "deviation_var = sum_squares_deviations/len(temp)\n",
        "deviation_var"
      ],
      "execution_count": 4,
      "outputs": [
        {
          "output_type": "execute_result",
          "data": {
            "text/plain": [
              "24132434164.042377"
            ]
          },
          "metadata": {
            "tags": []
          },
          "execution_count": 4
        }
      ]
    },
    {
      "cell_type": "markdown",
      "metadata": {
        "id": "fp_Nf1zMM70-"
      },
      "source": [
        "# (总体)标准差"
      ]
    },
    {
      "cell_type": "code",
      "metadata": {
        "colab": {
          "base_uri": "https://localhost:8080/"
        },
        "id": "zDurZoQyK0y-",
        "outputId": "cabe48a0-9443-4a50-8383-ab983810637b"
      },
      "source": [
        "import math\n",
        "math.sqrt(deviation_var)"
      ],
      "execution_count": 5,
      "outputs": [
        {
          "output_type": "execute_result",
          "data": {
            "text/plain": [
              "155346.17524754955"
            ]
          },
          "metadata": {
            "tags": []
          },
          "execution_count": 5
        }
      ]
    },
    {
      "cell_type": "code",
      "metadata": {
        "id": "lCLMLX1vLWNc"
      },
      "source": [
        ""
      ],
      "execution_count": 5,
      "outputs": []
    }
  ]
}