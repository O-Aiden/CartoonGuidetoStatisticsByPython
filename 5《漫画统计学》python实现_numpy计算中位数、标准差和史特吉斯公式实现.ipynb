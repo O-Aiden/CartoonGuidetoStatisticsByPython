{
  "nbformat": 4,
  "nbformat_minor": 0,
  "metadata": {
    "colab": {
      "name": "2-3《漫画统计学》python实现-numpy计算中位数、标准差和史特吉斯公式实现.ipynb",
      "provenance": [],
      "collapsed_sections": [],
      "mount_file_id": "1rXr2QLuowNrTbRzCeNTs1Ov1qT3NggDj",
      "authorship_tag": "ABX9TyPyR/4JwngYBvjo+bdonu5M",
      "include_colab_link": true
    },
    "kernelspec": {
      "name": "python3",
      "display_name": "Python 3"
    },
    "language_info": {
      "name": "python"
    }
  },
  "cells": [
    {
      "cell_type": "markdown",
      "metadata": {
        "id": "view-in-github",
        "colab_type": "text"
      },
      "source": [
        "<a href=\"https://colab.research.google.com/github/O-Aiden/CartoonGuidetoStatisticsByPython/blob/main/2_3%E3%80%8A%E6%BC%AB%E7%94%BB%E7%BB%9F%E8%AE%A1%E5%AD%A6%E3%80%8Bpython%E5%AE%9E%E7%8E%B0_numpy%E8%AE%A1%E7%AE%97%E4%B8%AD%E4%BD%8D%E6%95%B0%E3%80%81%E6%A0%87%E5%87%86%E5%B7%AE%E5%92%8C%E5%8F%B2%E7%89%B9%E5%90%89%E6%96%AF%E5%85%AC%E5%BC%8F%E5%AE%9E%E7%8E%B0.ipynb\" target=\"_parent\"><img src=\"https://colab.research.google.com/assets/colab-badge.svg\" alt=\"Open In Colab\"/></a>"
      ]
    },
    {
      "cell_type": "code",
      "metadata": {
        "id": "teBZwOB4Nei1"
      },
      "source": [
        "import pandas as pd\n",
        "import numpy as np"
      ],
      "execution_count": 39,
      "outputs": []
    },
    {
      "cell_type": "code",
      "metadata": {
        "colab": {
          "base_uri": "https://localhost:8080/",
          "height": 204
        },
        "id": "cKpgQifE3FF-",
        "outputId": "b680fea9-949e-480c-d9b0-4dbd84ac8643"
      },
      "source": [
        "data = pd.read_csv(\"1-1汽车数据.csv\",index_col=0)\n",
        "data.head(5)"
      ],
      "execution_count": 40,
      "outputs": [
        {
          "output_type": "execute_result",
          "data": {
            "text/html": [
              "<div>\n",
              "<style scoped>\n",
              "    .dataframe tbody tr th:only-of-type {\n",
              "        vertical-align: middle;\n",
              "    }\n",
              "\n",
              "    .dataframe tbody tr th {\n",
              "        vertical-align: top;\n",
              "    }\n",
              "\n",
              "    .dataframe thead th {\n",
              "        text-align: right;\n",
              "    }\n",
              "</style>\n",
              "<table border=\"1\" class=\"dataframe\">\n",
              "  <thead>\n",
              "    <tr style=\"text-align: right;\">\n",
              "      <th></th>\n",
              "      <th>能源类型</th>\n",
              "      <th>环保标准</th>\n",
              "      <th>上市时间</th>\n",
              "      <th>最大功率(kW)</th>\n",
              "      <th>最大扭矩(N·m)</th>\n",
              "      <th>发动机型号</th>\n",
              "      <th>变速箱类型</th>\n",
              "      <th>长*宽*高(mm)</th>\n",
              "      <th>车身结构</th>\n",
              "    </tr>\n",
              "  </thead>\n",
              "  <tbody>\n",
              "    <tr>\n",
              "      <th>0</th>\n",
              "      <td>柴油</td>\n",
              "      <td>国VI</td>\n",
              "      <td>2021.02</td>\n",
              "      <td>105</td>\n",
              "      <td>320</td>\n",
              "      <td>NaN</td>\n",
              "      <td>NaN</td>\n",
              "      <td>5350×1885×1825</td>\n",
              "      <td>皮卡</td>\n",
              "    </tr>\n",
              "    <tr>\n",
              "      <th>1</th>\n",
              "      <td>柴油</td>\n",
              "      <td>国VI</td>\n",
              "      <td>2021.02</td>\n",
              "      <td>105</td>\n",
              "      <td>320</td>\n",
              "      <td>NaN</td>\n",
              "      <td>NaN</td>\n",
              "      <td>5350×1885×1825</td>\n",
              "      <td>皮卡</td>\n",
              "    </tr>\n",
              "    <tr>\n",
              "      <th>2</th>\n",
              "      <td>柴油</td>\n",
              "      <td>国VI</td>\n",
              "      <td>2021.02</td>\n",
              "      <td>105</td>\n",
              "      <td>320</td>\n",
              "      <td>NaN</td>\n",
              "      <td>NaN</td>\n",
              "      <td>5350×1885×1825</td>\n",
              "      <td>皮卡</td>\n",
              "    </tr>\n",
              "    <tr>\n",
              "      <th>3</th>\n",
              "      <td>柴油</td>\n",
              "      <td>国VI</td>\n",
              "      <td>2021.02</td>\n",
              "      <td>105</td>\n",
              "      <td>320</td>\n",
              "      <td>NaN</td>\n",
              "      <td>NaN</td>\n",
              "      <td>5350×1885×1825</td>\n",
              "      <td>皮卡</td>\n",
              "    </tr>\n",
              "    <tr>\n",
              "      <th>4</th>\n",
              "      <td>柴油</td>\n",
              "      <td>国VI</td>\n",
              "      <td>2021.02</td>\n",
              "      <td>105</td>\n",
              "      <td>320</td>\n",
              "      <td>NaN</td>\n",
              "      <td>NaN</td>\n",
              "      <td>5350×1885×1825</td>\n",
              "      <td>皮卡</td>\n",
              "    </tr>\n",
              "  </tbody>\n",
              "</table>\n",
              "</div>"
            ],
            "text/plain": [
              "  能源类型 环保标准     上市时间  最大功率(kW)  最大扭矩(N·m)  发动机型号  变速箱类型       长*宽*高(mm) 车身结构\n",
              "0   柴油  国VI  2021.02       105        320    NaN    NaN  5350×1885×1825   皮卡\n",
              "1   柴油  国VI  2021.02       105        320    NaN    NaN  5350×1885×1825   皮卡\n",
              "2   柴油  国VI  2021.02       105        320    NaN    NaN  5350×1885×1825   皮卡\n",
              "3   柴油  国VI  2021.02       105        320    NaN    NaN  5350×1885×1825   皮卡\n",
              "4   柴油  国VI  2021.02       105        320    NaN    NaN  5350×1885×1825   皮卡"
            ]
          },
          "metadata": {
            "tags": []
          },
          "execution_count": 40
        }
      ]
    },
    {
      "cell_type": "markdown",
      "metadata": {
        "id": "XFUiGtrmmX49"
      },
      "source": [
        "## 中位数计算\n",
        "numpy.median() 函数用于计算数组中元素的中位数（中值）"
      ]
    },
    {
      "cell_type": "code",
      "metadata": {
        "id": "IGANvxNUmXj0",
        "colab": {
          "base_uri": "https://localhost:8080/"
        },
        "outputId": "0e0d2c7e-a05f-4bc4-f99b-f26754496f7f"
      },
      "source": [
        "np.median(data[\"最大功率(kW)\"])"
      ],
      "execution_count": 41,
      "outputs": [
        {
          "output_type": "execute_result",
          "data": {
            "text/plain": [
              "105.0"
            ]
          },
          "metadata": {
            "tags": []
          },
          "execution_count": 41
        }
      ]
    },
    {
      "cell_type": "markdown",
      "metadata": {
        "id": "AHn7Zs9jmw17"
      },
      "source": [
        "## 标准差计算\n",
        "其计算公式为std = sqrt(mean((x - x.mean())**2))"
      ]
    },
    {
      "cell_type": "code",
      "metadata": {
        "colab": {
          "base_uri": "https://localhost:8080/"
        },
        "id": "WyzkmH2z7N8g",
        "outputId": "393498e5-5e3c-45c4-d514-60746a96a7df"
      },
      "source": [
        "np.std(data[\"最大功率(kW)\"])"
      ],
      "execution_count": 42,
      "outputs": [
        {
          "output_type": "execute_result",
          "data": {
            "text/plain": [
              "33.30146624881535"
            ]
          },
          "metadata": {
            "tags": []
          },
          "execution_count": 42
        }
      ]
    },
    {
      "cell_type": "markdown",
      "metadata": {
        "id": "c5tpnVtE-PQT"
      },
      "source": [
        "## 史特吉斯公式"
      ]
    },
    {
      "cell_type": "code",
      "metadata": {
        "colab": {
          "base_uri": "https://localhost:8080/"
        },
        "id": "WftSJ28s-PBa",
        "outputId": "a43ad675-1814-41fe-d54a-0a9339c24d5f"
      },
      "source": [
        "import math\n",
        "def MySturges(data):\n",
        "    # 组数\n",
        "    n = int(1+math.log10(len(data))/math.log10(2))\n",
        "    # 四舍五入\n",
        "    n = int(n+0.5)\n",
        "    # 组距\n",
        "    z = (data.max() - data.min())/n\n",
        "    # 四舍五入\n",
        "    z = int(z+0.5)\n",
        "    return z\n",
        "\n",
        "MySturges(data[\"最大功率(kW)\"])"
      ],
      "execution_count": 43,
      "outputs": [
        {
          "output_type": "execute_result",
          "data": {
            "text/plain": [
              "12"
            ]
          },
          "metadata": {
            "tags": []
          },
          "execution_count": 43
        }
      ]
    }
  ]
}
