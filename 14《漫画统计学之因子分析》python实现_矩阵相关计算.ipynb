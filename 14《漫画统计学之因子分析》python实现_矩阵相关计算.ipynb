{
  "nbformat": 4,
  "nbformat_minor": 0,
  "metadata": {
    "colab": {
      "name": "14《漫画统计学之因子分析》python实现-矩阵相关计算.ipynb",
      "provenance": [],
      "collapsed_sections": [
        "HNX5239pIQQT",
        "xYXKgSq-Io8M",
        "vD8vk5BLKiuc"
      ],
      "mount_file_id": "1ic64P9s8-DOe56_ySomfO2ErDPc51n6N",
      "authorship_tag": "ABX9TyP5G6gPILlEksA/T2WnYgIU",
      "include_colab_link": true
    },
    "kernelspec": {
      "name": "python3",
      "display_name": "Python 3"
    },
    "language_info": {
      "name": "python"
    }
  },
  "cells": [
    {
      "cell_type": "markdown",
      "metadata": {
        "id": "view-in-github",
        "colab_type": "text"
      },
      "source": [
        "<a href=\"https://colab.research.google.com/github/O-Aiden/CartoonGuidetoStatisticsByPython/blob/main/14%E3%80%8A%E6%BC%AB%E7%94%BB%E7%BB%9F%E8%AE%A1%E5%AD%A6%E4%B9%8B%E5%9B%A0%E5%AD%90%E5%88%86%E6%9E%90%E3%80%8Bpython%E5%AE%9E%E7%8E%B0_%E7%9F%A9%E9%98%B5%E7%9B%B8%E5%85%B3%E8%AE%A1%E7%AE%97.ipynb\" target=\"_parent\"><img src=\"https://colab.research.google.com/assets/colab-badge.svg\" alt=\"Open In Colab\"/></a>"
      ]
    },
    {
      "cell_type": "code",
      "metadata": {
        "colab": {
          "base_uri": "https://localhost:8080/",
          "height": 354
        },
        "id": "mMjDyxFIK6FG",
        "outputId": "d24ad200-9442-4fc7-ed85-fac4ad400421"
      },
      "source": [
        "import pandas as pd\n",
        "\n",
        "data = pd.read_excel('汽车企业销量数据.xlsx',index_col=0)\n",
        "data.head(5)"
      ],
      "execution_count": 9,
      "outputs": [
        {
          "output_type": "execute_result",
          "data": {
            "text/html": [
              "<div>\n",
              "<style scoped>\n",
              "    .dataframe tbody tr th:only-of-type {\n",
              "        vertical-align: middle;\n",
              "    }\n",
              "\n",
              "    .dataframe tbody tr th {\n",
              "        vertical-align: top;\n",
              "    }\n",
              "\n",
              "    .dataframe thead th {\n",
              "        text-align: right;\n",
              "    }\n",
              "</style>\n",
              "<table border=\"1\" class=\"dataframe\">\n",
              "  <thead>\n",
              "    <tr style=\"text-align: right;\">\n",
              "      <th></th>\n",
              "      <th>企业</th>\n",
              "      <th>2021-05-01 00:00:00</th>\n",
              "      <th>2021-04-01 00:00:00</th>\n",
              "      <th>2021-03-01 00:00:00</th>\n",
              "      <th>2021-02-01 00:00:00</th>\n",
              "      <th>2021-01-01 00:00:00</th>\n",
              "      <th>2020-12-01 00:00:00</th>\n",
              "      <th>2021年</th>\n",
              "      <th>2020年</th>\n",
              "      <th>2019年</th>\n",
              "    </tr>\n",
              "    <tr>\n",
              "      <th>序号</th>\n",
              "      <th></th>\n",
              "      <th></th>\n",
              "      <th></th>\n",
              "      <th></th>\n",
              "      <th></th>\n",
              "      <th></th>\n",
              "      <th></th>\n",
              "      <th></th>\n",
              "      <th></th>\n",
              "      <th></th>\n",
              "    </tr>\n",
              "  </thead>\n",
              "  <tbody>\n",
              "    <tr>\n",
              "      <th>1</th>\n",
              "      <td>上海大众</td>\n",
              "      <td>110000</td>\n",
              "      <td>108301</td>\n",
              "      <td>112500</td>\n",
              "      <td>50500</td>\n",
              "      <td>86100</td>\n",
              "      <td>157520</td>\n",
              "      <td>467401</td>\n",
              "      <td>1505559</td>\n",
              "      <td>1812637</td>\n",
              "    </tr>\n",
              "    <tr>\n",
              "      <th>2</th>\n",
              "      <td>一汽-大众</td>\n",
              "      <td>111518</td>\n",
              "      <td>83026</td>\n",
              "      <td>147729</td>\n",
              "      <td>77078</td>\n",
              "      <td>135278</td>\n",
              "      <td>133439</td>\n",
              "      <td>554629</td>\n",
              "      <td>1415462</td>\n",
              "      <td>1416775</td>\n",
              "    </tr>\n",
              "    <tr>\n",
              "      <th>3</th>\n",
              "      <td>吉利汽车</td>\n",
              "      <td>96581</td>\n",
              "      <td>100846</td>\n",
              "      <td>100285</td>\n",
              "      <td>77319</td>\n",
              "      <td>156828</td>\n",
              "      <td>154929</td>\n",
              "      <td>531859</td>\n",
              "      <td>1315408</td>\n",
              "      <td>1362608</td>\n",
              "    </tr>\n",
              "    <tr>\n",
              "      <th>4</th>\n",
              "      <td>上汽通用</td>\n",
              "      <td>69729</td>\n",
              "      <td>66927</td>\n",
              "      <td>110354</td>\n",
              "      <td>65552</td>\n",
              "      <td>107795</td>\n",
              "      <td>166082</td>\n",
              "      <td>420357</td>\n",
              "      <td>1271652</td>\n",
              "      <td>1510456</td>\n",
              "    </tr>\n",
              "    <tr>\n",
              "      <th>5</th>\n",
              "      <td>东风日产</td>\n",
              "      <td>79277</td>\n",
              "      <td>84499</td>\n",
              "      <td>76955</td>\n",
              "      <td>54224</td>\n",
              "      <td>114233</td>\n",
              "      <td>127923</td>\n",
              "      <td>409188</td>\n",
              "      <td>1119008</td>\n",
              "      <td>1159108</td>\n",
              "    </tr>\n",
              "  </tbody>\n",
              "</table>\n",
              "</div>"
            ],
            "text/plain": [
              "       企业  2021-05-01 00:00:00  2021-04-01 00:00:00  ...   2021年    2020年    2019年\n",
              "序号                                                   ...                          \n",
              "1    上海大众               110000               108301  ...  467401  1505559  1812637\n",
              "2   一汽-大众               111518                83026  ...  554629  1415462  1416775\n",
              "3    吉利汽车                96581               100846  ...  531859  1315408  1362608\n",
              "4    上汽通用                69729                66927  ...  420357  1271652  1510456\n",
              "5    东风日产                79277                84499  ...  409188  1119008  1159108\n",
              "\n",
              "[5 rows x 10 columns]"
            ]
          },
          "metadata": {
            "tags": []
          },
          "execution_count": 9
        }
      ]
    },
    {
      "cell_type": "markdown",
      "metadata": {
        "id": "A48x7rm7K0sl"
      },
      "source": [
        "# 相关系数矩阵"
      ]
    },
    {
      "cell_type": "code",
      "metadata": {
        "colab": {
          "base_uri": "https://localhost:8080/",
          "height": 452
        },
        "id": "9m6JHlNbK08v",
        "outputId": "839fa83d-0a02-4998-8801-0632dd0ce60c"
      },
      "source": [
        "import pandas as pd\n",
        "import matplotlib.pyplot as mp, seaborn\n",
        "df = data\n",
        "df_corr = df.corr()\n",
        "# 可视化\n",
        "seaborn.heatmap(df_corr, center=0, annot=True, cmap='YlGnBu')\n",
        "mp.show()\n"
      ],
      "execution_count": 10,
      "outputs": [
        {
          "output_type": "stream",
          "text": [
            "/usr/local/lib/python3.7/dist-packages/matplotlib/backends/backend_agg.py:214: RuntimeWarning: Glyph 24180 missing from current font.\n",
            "  font.set_text(s, 0.0, flags=flags)\n",
            "/usr/local/lib/python3.7/dist-packages/matplotlib/backends/backend_agg.py:183: RuntimeWarning: Glyph 24180 missing from current font.\n",
            "  font.set_text(s, 0, flags=flags)\n"
          ],
          "name": "stderr"
        },
        {
          "output_type": "display_data",
          "data": {
            "image/png": "[encoded data removed]",
            "text/plain": [
              "<Figure size 432x288 with 2 Axes>"
            ]
          },
          "metadata": {
            "tags": [],
            "needs_background": "light"
          }
        }
      ]
    },
    {
      "cell_type": "markdown",
      "metadata": {
        "id": "OQBPiPLfGs4b"
      },
      "source": [
        "# 单位矩阵"
      ]
    },
    {
      "cell_type": "code",
      "metadata": {
        "colab": {
          "base_uri": "https://localhost:8080/"
        },
        "id": "jkFI7GGLGsmE",
        "outputId": "16bde966-2f90-416d-8b81-8d5a8fbb086a"
      },
      "source": [
        "import numpy as np\n",
        "\n",
        "## 方法一\n",
        "# 矩阵大小由数字决定\n",
        "# dtype决定数据类型，默认浮点型\n",
        "np.mat(np.identity(3, dtype = float))"
      ],
      "execution_count": 18,
      "outputs": [
        {
          "output_type": "execute_result",
          "data": {
            "text/plain": [
              "matrix([[1., 0., 0.],\n",
              "        [0., 1., 0.],\n",
              "        [0., 0., 1.]])"
            ]
          },
          "metadata": {
            "tags": []
          },
          "execution_count": 18
        }
      ]
    },
    {
      "cell_type": "code",
      "metadata": {
        "id": "z5Nc3bipFi6Y",
        "colab": {
          "base_uri": "https://localhost:8080/"
        },
        "outputId": "e6fa6a88-6fd2-4de1-abf9-45a2b32515d6"
      },
      "source": [
        "## 方法二\n",
        "iden = np.mat(np.eye(3, dtype = float))\n",
        "iden"
      ],
      "execution_count": 26,
      "outputs": [
        {
          "output_type": "execute_result",
          "data": {
            "text/plain": [
              "matrix([[1., 0., 0.],\n",
              "        [0., 1., 0.],\n",
              "        [0., 0., 1.]])"
            ]
          },
          "metadata": {
            "tags": []
          },
          "execution_count": 26
        }
      ]
    },
    {
      "cell_type": "code",
      "metadata": {
        "colab": {
          "base_uri": "https://localhost:8080/"
        },
        "id": "ouk7Gj_PFkiN",
        "outputId": "b1539b61-b0e3-4f3d-c611-dadd3e00e36f"
      },
      "source": [
        "## 矩阵简单计算\n",
        "# 生成普通矩阵\n",
        "matrix = np.array([[6,4],[1,-9],[3,-7]])\n",
        "# 矩阵计算\n",
        "np.dot(iden,matrix)"
      ],
      "execution_count": 29,
      "outputs": [
        {
          "output_type": "execute_result",
          "data": {
            "text/plain": [
              "matrix([[ 6.,  4.],\n",
              "        [ 1., -9.],\n",
              "        [ 3., -7.]])"
            ]
          },
          "metadata": {
            "tags": []
          },
          "execution_count": 29
        }
      ]
    },
    {
      "cell_type": "code",
      "metadata": {
        "colab": {
          "base_uri": "https://localhost:8080/"
        },
        "id": "ouU1Oh_DLFkX",
        "outputId": "36cabfb4-9003-4125-e645-05ec6a472a3c"
      },
      "source": [
        "## 矩阵简单计算\n",
        "# 生成普通矩阵\n",
        "matrix = np.array([[6,4],[1,-9],[3,-7]])\n",
        "# 矩阵计算\n",
        "np.dot(matrix,np.mat(np.eye(2, dtype = float)))"
      ],
      "execution_count": 31,
      "outputs": [
        {
          "output_type": "execute_result",
          "data": {
            "text/plain": [
              "matrix([[ 6.,  4.],\n",
              "        [ 1., -9.],\n",
              "        [ 3., -7.]])"
            ]
          },
          "metadata": {
            "tags": []
          },
          "execution_count": 31
        }
      ]
    },
    {
      "cell_type": "markdown",
      "metadata": {
        "id": "Gd-HG919Mq2V"
      },
      "source": [
        "# 旋转"
      ]
    },
    {
      "cell_type": "code",
      "metadata": {
        "colab": {
          "base_uri": "https://localhost:8080/"
        },
        "id": "sXn5mdK9LJgC",
        "outputId": "df3287b8-1f25-43e0-adf7-b34cdcb22575"
      },
      "source": [
        "import math\n",
        "\n",
        "matrix1 = np.array([[round(math.cos(math.pi/2)),-math.sin(math.pi/2)],[math.sin(math.pi/2),round(math.cos(math.pi/2))]])\n",
        "print('matrix1: ',matrix1)\n",
        "\n",
        "matrix2 = np.array([[math.sqrt(3)],[1]])\n",
        "print('matrix2: ',matrix2)\n",
        "\n",
        "print('旋转后： ',np.dot(matrix1,matrix2))"
      ],
      "execution_count": 53,
      "outputs": [
        {
          "output_type": "stream",
          "text": [
            "matrix1:  [[ 0. -1.]\n",
            " [ 1.  0.]]\n",
            "matrix2:  [[1.73205081]\n",
            " [1.        ]]\n",
            "旋转后：  [[-1.        ]\n",
            " [ 1.73205081]]\n"
          ],
          "name": "stdout"
        }
      ]
    },
    {
      "cell_type": "markdown",
      "metadata": {
        "id": "0hQcYLAXURUa"
      },
      "source": [
        "# 特征值和特征向量"
      ]
    },
    {
      "cell_type": "code",
      "metadata": {
        "colab": {
          "base_uri": "https://localhost:8080/"
        },
        "id": "mrwoifAAV4Nf",
        "outputId": "ebbdd866-feb4-4eec-e149-51e3bd7c2142"
      },
      "source": [
        "\n",
        "a = np.diag((2,4,6)) # 一个对角矩阵\n",
        "w, v = np.linalg.eig(a)\n",
        "# 其中特征值为w,特征向量为v\n",
        "print('特征值: ', w)\n",
        "print('特征向量: ', v)\n"
      ],
      "execution_count": 76,
      "outputs": [
        {
          "output_type": "stream",
          "text": [
            "特征值:  [2. 4. 6.]\n",
            "特征向量:  [[1. 0. 0.]\n",
            " [0. 1. 0.]\n",
            " [0. 0. 1.]]\n"
          ],
          "name": "stdout"
        }
      ]
    },
    {
      "cell_type": "markdown",
      "metadata": {
        "id": "VRjHl_RIi7Pa"
      },
      "source": [
        "# 对称矩阵"
      ]
    },
    {
      "cell_type": "code",
      "metadata": {
        "colab": {
          "base_uri": "https://localhost:8080/"
        },
        "id": "biSMIQ9JYCtJ",
        "outputId": "595ba4a5-fecc-4dde-e1c4-648319b0b8bb"
      },
      "source": [
        "import numpy as np\n",
        "# step 1：创建一个方阵\n",
        "X = np.random.rand(5**2).reshape(5, 5)\n",
        "# step 2：保留其上三角部分\n",
        "X = np.triu(X)\n",
        "#step 3：将上三角”拷贝”到下三角部分\n",
        "X += X.T - np.diag(X.diagonal())\n",
        "X"
      ],
      "execution_count": 77,
      "outputs": [
        {
          "output_type": "execute_result",
          "data": {
            "text/plain": [
              "array([[0.31860966, 0.58717131, 0.64846612, 0.03582108, 0.10250689],\n",
              "       [0.58717131, 0.7019595 , 0.06866675, 0.20619333, 0.70226371],\n",
              "       [0.64846612, 0.06866675, 0.09862366, 0.32672388, 0.81764872],\n",
              "       [0.03582108, 0.20619333, 0.32672388, 0.56044235, 0.51202707],\n",
              "       [0.10250689, 0.70226371, 0.81764872, 0.51202707, 0.06804219]])"
            ]
          },
          "metadata": {
            "tags": []
          },
          "execution_count": 77
        }
      ]
    },
    {
      "cell_type": "code",
      "metadata": {
        "colab": {
          "base_uri": "https://localhost:8080/"
        },
        "id": "0LLBn7BgjMSj",
        "outputId": "2b402734-ddd8-4717-e072-ac5e87e86fef"
      },
      "source": [
        "# 利用对称矩阵的性质进行，测试\n",
        "X.T == X"
      ],
      "execution_count": 78,
      "outputs": [
        {
          "output_type": "execute_result",
          "data": {
            "text/plain": [
              "array([[ True,  True,  True,  True,  True],\n",
              "       [ True,  True,  True,  True,  True],\n",
              "       [ True,  True,  True,  True,  True],\n",
              "       [ True,  True,  True,  True,  True],\n",
              "       [ True,  True,  True,  True,  True]])"
            ]
          },
          "metadata": {
            "tags": []
          },
          "execution_count": 78
        }
      ]
    },
    {
      "cell_type": "markdown",
      "metadata": {
        "id": "oN4-rUcWnPnC"
      },
      "source": [
        "# 逆矩阵"
      ]
    },
    {
      "cell_type": "code",
      "metadata": {
        "colab": {
          "base_uri": "https://localhost:8080/"
        },
        "id": "IzG2Vxe3nPPd",
        "outputId": "79c02e50-19c9-47c8-f140-9365a7caa592"
      },
      "source": [
        "matrix = np.array([[1,2],[3,4]])\n",
        "np.linalg.inv(matrix)"
      ],
      "execution_count": 82,
      "outputs": [
        {
          "output_type": "execute_result",
          "data": {
            "text/plain": [
              "array([[-2. ,  1. ],\n",
              "       [ 1.5, -0.5]])"
            ]
          },
          "metadata": {
            "tags": []
          },
          "execution_count": 82
        }
      ]
    },
    {
      "cell_type": "code",
      "metadata": {
        "colab": {
          "base_uri": "https://localhost:8080/"
        },
        "id": "MqCVaYI2oiRk",
        "outputId": "f06d6ab9-becf-48ee-afb6-ffaabf075dfd"
      },
      "source": [
        "# 定义一个奇异阵 A\n",
        "A = np.zeros((4, 4))\n",
        "A[0, -1] = 1\n",
        "A[-1, 0] = -1\n",
        "A = np.matrix(A)\n",
        "print(A)\n",
        "# print(A.I)  将报错，矩阵 A 为奇异矩阵，不可逆\n",
        "print(np.linalg.pinv(a))   # 求矩阵 A 的伪逆（广义逆矩阵），对应于MATLAB中 pinv()"
      ],
      "execution_count": 83,
      "outputs": [
        {
          "output_type": "stream",
          "text": [
            "[[ 0.  0.  0.  1.]\n",
            " [ 0.  0.  0.  0.]\n",
            " [ 0.  0.  0.  0.]\n",
            " [-1.  0.  0.  0.]]\n",
            "[[0.5        0.         0.        ]\n",
            " [0.         0.25       0.        ]\n",
            " [0.         0.         0.16666667]]\n"
          ],
          "name": "stdout"
        }
      ]
    },
    {
      "cell_type": "markdown",
      "metadata": {
        "id": "4jyr2-R7oXnP"
      },
      "source": [
        "# 转置矩阵"
      ]
    },
    {
      "cell_type": "code",
      "metadata": {
        "colab": {
          "base_uri": "https://localhost:8080/"
        },
        "id": "j7hbCnHak3hR",
        "outputId": "2be5d13e-c7be-4417-c755-112fed4b7237"
      },
      "source": [
        "matrix = np.array([[1,2],[3,4]])\n",
        "matrix.T"
      ],
      "execution_count": 84,
      "outputs": [
        {
          "output_type": "execute_result",
          "data": {
            "text/plain": [
              "array([[1, 3],\n",
              "       [2, 4]])"
            ]
          },
          "metadata": {
            "tags": []
          },
          "execution_count": 84
        }
      ]
    },
    {
      "cell_type": "code",
      "metadata": {
        "id": "J3aYYLYFoz6g"
      },
      "source": [
        ""
      ],
      "execution_count": null,
      "outputs": []
    }
  ]
}