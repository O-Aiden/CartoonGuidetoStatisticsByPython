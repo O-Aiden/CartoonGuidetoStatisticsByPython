{
  "nbformat": 4,
  "nbformat_minor": 0,
  "metadata": {
    "colab": {
      "name": "9《漫画统计学》python实现-“XX分布”和Python.ipynb",
      "provenance": [],
      "collapsed_sections": [],
      "toc_visible": true,
      "mount_file_id": "1rXr2QLuowNrTbRzCeNTs1Ov1qT3NggDj",
      "authorship_tag": "ABX9TyPWGOvIH1jy6eFs3d69w2c4",
      "include_colab_link": true
    },
    "kernelspec": {
      "name": "python3",
      "display_name": "Python 3"
    },
    "language_info": {
      "name": "python"
    }
  },
  "cells": [
    {
      "cell_type": "markdown",
      "metadata": {
        "id": "view-in-github",
        "colab_type": "text"
      },
      "source": [
        "<a href=\"https://colab.research.google.com/github/O-Aiden/CartoonGuidetoStatisticsByPython/blob/main/9%E3%80%8A%E6%BC%AB%E7%94%BB%E7%BB%9F%E8%AE%A1%E5%AD%A6%E3%80%8Bpython%E5%AE%9E%E7%8E%B0_%E2%80%9CXX%E5%88%86%E5%B8%83%E2%80%9D%E5%92%8CPython.ipynb\" target=\"_parent\"><img src=\"https://colab.research.google.com/assets/colab-badge.svg\" alt=\"Open In Colab\"/></a>"
      ]
    },
    {
      "cell_type": "code",
      "metadata": {
        "id": "teBZwOB4Nei1"
      },
      "source": [
        "from scipy import stats "
      ],
      "execution_count": 13,
      "outputs": []
    },
    {
      "cell_type": "markdown",
      "metadata": {
        "id": "oUXgg_N5ex1I"
      },
      "source": [
        "# 卡方分布"
      ]
    },
    {
      "cell_type": "markdown",
      "metadata": {
        "id": "_b_jpfJ-ZqGI"
      },
      "source": [
        "## 根据p和自由度,求x^2"
      ]
    },
    {
      "cell_type": "code",
      "metadata": {
        "colab": {
          "base_uri": "https://localhost:8080/"
        },
        "id": "Wb9dVdxddpMx",
        "outputId": "2ee05e23-4fdd-4dce-95ee-9f4867cfd0d4"
      },
      "source": [
        "stats.chi2.ppf(q=1-0.05,df=1) "
      ],
      "execution_count": 18,
      "outputs": [
        {
          "output_type": "execute_result",
          "data": {
            "text/plain": [
              "3.841458820694124"
            ]
          },
          "metadata": {
            "tags": []
          },
          "execution_count": 18
        }
      ]
    },
    {
      "cell_type": "markdown",
      "metadata": {
        "id": "S9H6OI-pdwiq"
      },
      "source": [
        "## 根据X^2和自由度，求p"
      ]
    },
    {
      "cell_type": "code",
      "metadata": {
        "colab": {
          "base_uri": "https://localhost:8080/"
        },
        "id": "TsERkQOpaqEG",
        "outputId": "97e8da35-091a-4689-c425-0b51be9fedb2"
      },
      "source": [
        "1 - stats.chi2.cdf(3.841458820694124, df=1)"
      ],
      "execution_count": 23,
      "outputs": [
        {
          "output_type": "execute_result",
          "data": {
            "text/plain": [
              "0.04999999999999993"
            ]
          },
          "metadata": {
            "tags": []
          },
          "execution_count": 23
        }
      ]
    },
    {
      "cell_type": "markdown",
      "metadata": {
        "id": "Iuux1jOohtSb"
      },
      "source": [
        "# t分布(单尾检验)"
      ]
    },
    {
      "cell_type": "code",
      "metadata": {
        "colab": {
          "base_uri": "https://localhost:8080/"
        },
        "id": "aypXXHFfhpYK",
        "outputId": "22c45217-dd4a-4968-95b2-6094ece967a0"
      },
      "source": [
        "stats.t.ppf(0.05,1)"
      ],
      "execution_count": 28,
      "outputs": [
        {
          "output_type": "execute_result",
          "data": {
            "text/plain": [
              "-6.313751514800938"
            ]
          },
          "metadata": {
            "tags": []
          },
          "execution_count": 28
        }
      ]
    },
    {
      "cell_type": "code",
      "metadata": {
        "colab": {
          "base_uri": "https://localhost:8080/"
        },
        "id": "UPQ2-zCFjY_L",
        "outputId": "16749b51-c45a-461c-98df-55816f278467"
      },
      "source": [
        "stats.t.cdf(-6.313751514800938,1)"
      ],
      "execution_count": 30,
      "outputs": [
        {
          "output_type": "execute_result",
          "data": {
            "text/plain": [
              "0.04999999999901932"
            ]
          },
          "metadata": {
            "tags": []
          },
          "execution_count": 30
        }
      ]
    },
    {
      "cell_type": "markdown",
      "metadata": {
        "id": "ltBuFLBX7c4L"
      },
      "source": [
        "# F分布\n",
        "dfn: 第一自由度，分子中卡方分布的自由度\n",
        "；dfd: 第二自由度，分母中卡方分布的自由度"
      ]
    },
    {
      "cell_type": "code",
      "metadata": {
        "colab": {
          "base_uri": "https://localhost:8080/"
        },
        "id": "WJ6aAAu4kBNf",
        "outputId": "711d0ca2-a05f-4029-ef70-8e1aba160aa6"
      },
      "source": [
        "stats.f.ppf(0.95,dfn=1,dfd=4)"
      ],
      "execution_count": 32,
      "outputs": [
        {
          "output_type": "execute_result",
          "data": {
            "text/plain": [
              "7.708647422176786"
            ]
          },
          "metadata": {
            "tags": []
          },
          "execution_count": 32
        }
      ]
    },
    {
      "cell_type": "code",
      "metadata": {
        "colab": {
          "base_uri": "https://localhost:8080/"
        },
        "id": "um6Qt1C1kCJb",
        "outputId": "942f212d-a8ca-4106-c782-27a750053ad7"
      },
      "source": [
        "stats.f.cdf(7.708647422176786,dfn=1,dfd=4)"
      ],
      "execution_count": 33,
      "outputs": [
        {
          "output_type": "execute_result",
          "data": {
            "text/plain": [
              "0.95"
            ]
          },
          "metadata": {
            "tags": []
          },
          "execution_count": 33
        }
      ]
    },
    {
      "cell_type": "code",
      "metadata": {
        "id": "_OJpNnWkl3N1"
      },
      "source": [
        ""
      ],
      "execution_count": null,
      "outputs": []
    }
  ]
}