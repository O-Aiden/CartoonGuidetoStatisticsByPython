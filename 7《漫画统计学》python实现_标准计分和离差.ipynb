{
  "nbformat": 4,
  "nbformat_minor": 0,
  "metadata": {
    "colab": {
      "name": "7《漫画统计学》python实现-标准计分和离差.ipynb",
      "provenance": [],
      "collapsed_sections": [],
      "toc_visible": true,
      "mount_file_id": "1rXr2QLuowNrTbRzCeNTs1Ov1qT3NggDj",
      "authorship_tag": "ABX9TyM0VPcpFIQVGkxwV4SsA6dO",
      "include_colab_link": true
    },
    "kernelspec": {
      "name": "python3",
      "display_name": "Python 3"
    },
    "language_info": {
      "name": "python"
    }
  },
  "cells": [
    {
      "cell_type": "markdown",
      "metadata": {
        "id": "view-in-github",
        "colab_type": "text"
      },
      "source": [
        "<a href=\"https://colab.research.google.com/github/O-Aiden/CartoonGuidetoStatisticsByPython/blob/main/7%E3%80%8A%E6%BC%AB%E7%94%BB%E7%BB%9F%E8%AE%A1%E5%AD%A6%E3%80%8Bpython%E5%AE%9E%E7%8E%B0_%E6%A0%87%E5%87%86%E8%AE%A1%E5%88%86%E5%92%8C%E7%A6%BB%E5%B7%AE.ipynb\" target=\"_parent\"><img src=\"https://colab.research.google.com/assets/colab-badge.svg\" alt=\"Open In Colab\"/></a>"
      ]
    },
    {
      "cell_type": "code",
      "metadata": {
        "id": "teBZwOB4Nei1"
      },
      "source": [
        "import pandas as pd\n",
        "import numpy as np"
      ],
      "execution_count": null,
      "outputs": []
    },
    {
      "cell_type": "code",
      "metadata": {
        "colab": {
          "base_uri": "https://localhost:8080/",
          "height": 204
        },
        "id": "cKpgQifE3FF-",
        "outputId": "18faa7f3-d19e-45b5-9db9-f478cc78fe07"
      },
      "source": [
        "data = pd.read_csv(\"1-1汽车数据.csv\",index_col=0)\n",
        "data.head(5)"
      ],
      "execution_count": null,
      "outputs": [
        {
          "output_type": "execute_result",
          "data": {
            "text/html": [
              "<div>\n",
              "<style scoped>\n",
              "    .dataframe tbody tr th:only-of-type {\n",
              "        vertical-align: middle;\n",
              "    }\n",
              "\n",
              "    .dataframe tbody tr th {\n",
              "        vertical-align: top;\n",
              "    }\n",
              "\n",
              "    .dataframe thead th {\n",
              "        text-align: right;\n",
              "    }\n",
              "</style>\n",
              "<table border=\"1\" class=\"dataframe\">\n",
              "  <thead>\n",
              "    <tr style=\"text-align: right;\">\n",
              "      <th></th>\n",
              "      <th>能源类型</th>\n",
              "      <th>环保标准</th>\n",
              "      <th>上市时间</th>\n",
              "      <th>最大功率(kW)</th>\n",
              "      <th>最大扭矩(N·m)</th>\n",
              "      <th>发动机型号</th>\n",
              "      <th>变速箱类型</th>\n",
              "      <th>长*宽*高(mm)</th>\n",
              "      <th>车身结构</th>\n",
              "    </tr>\n",
              "  </thead>\n",
              "  <tbody>\n",
              "    <tr>\n",
              "      <th>0</th>\n",
              "      <td>柴油</td>\n",
              "      <td>国VI</td>\n",
              "      <td>2021.02</td>\n",
              "      <td>105</td>\n",
              "      <td>320</td>\n",
              "      <td>NaN</td>\n",
              "      <td>NaN</td>\n",
              "      <td>5350×1885×1825</td>\n",
              "      <td>皮卡</td>\n",
              "    </tr>\n",
              "    <tr>\n",
              "      <th>1</th>\n",
              "      <td>柴油</td>\n",
              "      <td>国VI</td>\n",
              "      <td>2021.02</td>\n",
              "      <td>105</td>\n",
              "      <td>320</td>\n",
              "      <td>NaN</td>\n",
              "      <td>NaN</td>\n",
              "      <td>5350×1885×1825</td>\n",
              "      <td>皮卡</td>\n",
              "    </tr>\n",
              "    <tr>\n",
              "      <th>2</th>\n",
              "      <td>柴油</td>\n",
              "      <td>国VI</td>\n",
              "      <td>2021.02</td>\n",
              "      <td>105</td>\n",
              "      <td>320</td>\n",
              "      <td>NaN</td>\n",
              "      <td>NaN</td>\n",
              "      <td>5350×1885×1825</td>\n",
              "      <td>皮卡</td>\n",
              "    </tr>\n",
              "    <tr>\n",
              "      <th>3</th>\n",
              "      <td>柴油</td>\n",
              "      <td>国VI</td>\n",
              "      <td>2021.02</td>\n",
              "      <td>105</td>\n",
              "      <td>320</td>\n",
              "      <td>NaN</td>\n",
              "      <td>NaN</td>\n",
              "      <td>5350×1885×1825</td>\n",
              "      <td>皮卡</td>\n",
              "    </tr>\n",
              "    <tr>\n",
              "      <th>4</th>\n",
              "      <td>柴油</td>\n",
              "      <td>国VI</td>\n",
              "      <td>2021.02</td>\n",
              "      <td>105</td>\n",
              "      <td>320</td>\n",
              "      <td>NaN</td>\n",
              "      <td>NaN</td>\n",
              "      <td>5350×1885×1825</td>\n",
              "      <td>皮卡</td>\n",
              "    </tr>\n",
              "  </tbody>\n",
              "</table>\n",
              "</div>"
            ],
            "text/plain": [
              "  能源类型 环保标准     上市时间  最大功率(kW)  最大扭矩(N·m)  发动机型号  变速箱类型       长*宽*高(mm) 车身结构\n",
              "0   柴油  国VI  2021.02       105        320    NaN    NaN  5350×1885×1825   皮卡\n",
              "1   柴油  国VI  2021.02       105        320    NaN    NaN  5350×1885×1825   皮卡\n",
              "2   柴油  国VI  2021.02       105        320    NaN    NaN  5350×1885×1825   皮卡\n",
              "3   柴油  国VI  2021.02       105        320    NaN    NaN  5350×1885×1825   皮卡\n",
              "4   柴油  国VI  2021.02       105        320    NaN    NaN  5350×1885×1825   皮卡"
            ]
          },
          "metadata": {
            "tags": []
          },
          "execution_count": 4
        }
      ]
    },
    {
      "cell_type": "markdown",
      "metadata": {
        "id": "XFUiGtrmmX49"
      },
      "source": [
        "## 计算平均数"
      ]
    },
    {
      "cell_type": "code",
      "metadata": {
        "id": "IGANvxNUmXj0",
        "colab": {
          "base_uri": "https://localhost:8080/"
        },
        "outputId": "1012519b-7073-48ad-e4e0-578bbb3d5f9b"
      },
      "source": [
        "mean = data[['最大功率(kW)']].mean()\n",
        "mean = mean['最大功率(kW)']\n",
        "mean"
      ],
      "execution_count": null,
      "outputs": [
        {
          "output_type": "execute_result",
          "data": {
            "text/plain": [
              "132.88888888888889"
            ]
          },
          "metadata": {
            "tags": []
          },
          "execution_count": 12
        }
      ]
    },
    {
      "cell_type": "markdown",
      "metadata": {
        "id": "AHn7Zs9jmw17"
      },
      "source": [
        "## 计算标准差"
      ]
    },
    {
      "cell_type": "code",
      "metadata": {
        "colab": {
          "base_uri": "https://localhost:8080/"
        },
        "id": "9wCyGPXOm4W8",
        "outputId": "d2c24261-ba01-4323-db41-bd0d0eddc86a"
      },
      "source": [
        "std = np.std(data[\"最大功率(kW)\"])\n",
        "std"
      ],
      "execution_count": null,
      "outputs": [
        {
          "output_type": "execute_result",
          "data": {
            "text/plain": [
              "33.30146624881535"
            ]
          },
          "metadata": {
            "tags": []
          },
          "execution_count": 10
        }
      ]
    },
    {
      "cell_type": "markdown",
      "metadata": {
        "id": "ikNK9XbroQbN"
      },
      "source": [
        "## 计算标准计分"
      ]
    },
    {
      "cell_type": "code",
      "metadata": {
        "colab": {
          "base_uri": "https://localhost:8080/"
        },
        "id": "c3-EQ9yOoWAG",
        "outputId": "07c9d239-17b7-43b3-fe1c-09cb1c47ef63"
      },
      "source": [
        "standard_score = (data[\"最大功率(kW)\"] - mean)/std\n",
        "standard_score.name = '标准计分'\n",
        "standard_score.head(5)"
      ],
      "execution_count": null,
      "outputs": [
        {
          "output_type": "execute_result",
          "data": {
            "text/plain": [
              "0   -0.837467\n",
              "1   -0.837467\n",
              "2   -0.837467\n",
              "3   -0.837467\n",
              "4   -0.837467\n",
              "Name: 标准计分, dtype: float64"
            ]
          },
          "metadata": {
            "tags": []
          },
          "execution_count": 18
        }
      ]
    },
    {
      "cell_type": "markdown",
      "metadata": {
        "id": "BfOTjKdk0OZw"
      },
      "source": [
        "## 离差"
      ]
    },
    {
      "cell_type": "code",
      "metadata": {
        "colab": {
          "base_uri": "https://localhost:8080/"
        },
        "id": "BWUIicc60N99",
        "outputId": "2aab69bf-d308-4123-c078-7d8c5a055939"
      },
      "source": [
        "deviation = standard_score*10 +50\n",
        "deviation.name = '离差'\n",
        "deviation.head(5)"
      ],
      "execution_count": null,
      "outputs": [
        {
          "output_type": "execute_result",
          "data": {
            "text/plain": [
              "0    41.625327\n",
              "1    41.625327\n",
              "2    41.625327\n",
              "3    41.625327\n",
              "4    41.625327\n",
              "Name: 离差, dtype: float64"
            ]
          },
          "metadata": {
            "tags": []
          },
          "execution_count": 20
        }
      ]
    }
  ]
}