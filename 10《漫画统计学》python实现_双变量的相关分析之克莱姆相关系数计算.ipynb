{
  "nbformat": 4,
  "nbformat_minor": 0,
  "metadata": {
    "colab": {
      "name": "10《漫画统计学》python实现-双变量的相关分析之克莱姆相关系数计算.ipynb",
      "provenance": [],
      "collapsed_sections": [
        "XFUiGtrmmX49"
      ],
      "mount_file_id": "1rXr2QLuowNrTbRzCeNTs1Ov1qT3NggDj",
      "authorship_tag": "ABX9TyO5qjsVBeHKbESRIhu7PoYj",
      "include_colab_link": true
    },
    "kernelspec": {
      "name": "python3",
      "display_name": "Python 3"
    },
    "language_info": {
      "name": "python"
    }
  },
  "cells": [
    {
      "cell_type": "markdown",
      "metadata": {
        "id": "view-in-github",
        "colab_type": "text"
      },
      "source": [
        "<a href=\"https://colab.research.google.com/github/O-Aiden/CartoonGuidetoStatisticsByPython/blob/main/10%E3%80%8A%E6%BC%AB%E7%94%BB%E7%BB%9F%E8%AE%A1%E5%AD%A6%E3%80%8Bpython%E5%AE%9E%E7%8E%B0_%E5%8F%8C%E5%8F%98%E9%87%8F%E7%9A%84%E7%9B%B8%E5%85%B3%E5%88%86%E6%9E%90%E4%B9%8B%E5%85%8B%E8%8E%B1%E5%A7%86%E7%9B%B8%E5%85%B3%E7%B3%BB%E6%95%B0%E8%AE%A1%E7%AE%97.ipynb\" target=\"_parent\"><img src=\"https://colab.research.google.com/assets/colab-badge.svg\" alt=\"Open In Colab\"/></a>"
      ]
    },
    {
      "cell_type": "code",
      "metadata": {
        "colab": {
          "base_uri": "https://localhost:8080/"
        },
        "id": "K7m2m4m5xclw",
        "outputId": "2c333a2f-26f9-4258-c216-10371fe2b080"
      },
      "source": [
        "import scipy.stats as stats\n",
        "import numpy as np\n",
        "\n",
        "#创建表格\n",
        "data = np.array([[34,61,53], [38, 40,74]])\n",
        "\n",
        "# 计算卡方、样本大小以及行列的最小值\n",
        "X2 = stats.chi2_contingency(data, correction=False)[0]\n",
        "n = np.sum(data)\n",
        "minDim = min(data.shape)-1\n",
        "\n",
        "# 计算克莱姆相关系数\n",
        "V = np.sqrt((X2/n) / minDim)\n",
        "\n",
        "print(V)\n"
      ],
      "execution_count": 7,
      "outputs": [
        {
          "output_type": "stream",
          "text": [
            "0.16339206738915565\n"
          ],
          "name": "stdout"
        }
      ]
    },
    {
      "cell_type": "code",
      "metadata": {
        "id": "l3PJaJWZ2mMD"
      },
      "source": [
        ""
      ],
      "execution_count": null,
      "outputs": []
    }
  ]
}